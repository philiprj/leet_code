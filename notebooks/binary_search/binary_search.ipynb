{
 "cells": [
  {
   "cell_type": "code",
   "execution_count": 1,
   "metadata": {},
   "outputs": [],
   "source": [
    "from typing import List"
   ]
  },
  {
   "cell_type": "markdown",
   "metadata": {},
   "source": [
    "# Stack: Easy Problems"
   ]
  },
  {
   "cell_type": "markdown",
   "metadata": {},
   "source": [
    "## Binary Search\n",
    "\n",
    "https://leetcode.com/problems/binary-search/\n",
    "\n",
    "You are given an array of distinct integers nums, sorted in ascending order, and an integer target.\n",
    "\n",
    "Implement a function to search for target within nums. If it exists, then return its index, otherwise, return -1.\n",
    "\n",
    "Your solution must run in O(logn) time.\n",
    "\n",
    "Example 1:\n",
    "\n",
    "```\n",
    "Input: nums = [-1,0,2,4,6,8], target = 4\n",
    "Output: 3\n",
    "```\n",
    "\n",
    "Example 2:\n",
    "\n",
    "```\n",
    "Input: nums = [-1,0,2,4,6,8], target = 3\n",
    "Output: -1\n",
    "```\n",
    "\n",
    "Constraints:\n",
    "\n",
    "```\n",
    "1 <= nums.length <= 10000.\n",
    "-10000 < nums[i], target < 10000\n",
    "```"
   ]
  },
  {
   "cell_type": "code",
   "execution_count": 2,
   "metadata": {},
   "outputs": [],
   "source": [
    "def search(self, nums: List[int], target: int) -> int:\n",
    "    pass"
   ]
  }
 ],
 "metadata": {
  "kernelspec": {
   "display_name": ".venv",
   "language": "python",
   "name": "python3"
  },
  "language_info": {
   "codemirror_mode": {
    "name": "ipython",
    "version": 3
   },
   "file_extension": ".py",
   "mimetype": "text/x-python",
   "name": "python",
   "nbconvert_exporter": "python",
   "pygments_lexer": "ipython3",
   "version": "3.11.5"
  }
 },
 "nbformat": 4,
 "nbformat_minor": 2
}
