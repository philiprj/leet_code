{
 "cells": [
  {
   "cell_type": "code",
   "execution_count": 165,
   "metadata": {},
   "outputs": [],
   "source": [
    "from typing import List\n",
    "from math import ceil\n",
    "from collections import defaultdict"
   ]
  },
  {
   "cell_type": "markdown",
   "metadata": {},
   "source": [
    "# Binary Search: Easy Problems"
   ]
  },
  {
   "cell_type": "markdown",
   "metadata": {},
   "source": [
    "## Binary Search\n",
    "\n",
    "https://leetcode.com/problems/binary-search/\n",
    "\n",
    "You are given an array of distinct integers nums, sorted in ascending order, and an integer target.\n",
    "\n",
    "Implement a function to search for target within nums. If it exists, then return its index, otherwise, return -1.\n",
    "\n",
    "Your solution must run in O(logn) time.\n",
    "\n",
    "Example 1:\n",
    "\n",
    "```\n",
    "Input: nums = [-1,0,2,4,6,8], target = 4\n",
    "Output: 3\n",
    "```\n",
    "\n",
    "Example 2:\n",
    "\n",
    "```\n",
    "Input: nums = [-1,0,2,4,6,8], target = 3\n",
    "Output: -1\n",
    "```\n",
    "\n",
    "Constraints:\n",
    "\n",
    "```\n",
    "1 <= nums.length <= 10000.\n",
    "-10000 < nums[i], target < 10000\n",
    "```"
   ]
  },
  {
   "cell_type": "code",
   "execution_count": 12,
   "metadata": {},
   "outputs": [],
   "source": [
    "def search(nums: List[int], target: int) -> int:\n",
    "    \"\"\"Optimal solution O(logn), O(1)\"\"\"\n",
    "    left, right = 0, len(nums) - 1\n",
    "    while left <= right:\n",
    "        mid = (left + right) // 2\n",
    "        if nums[mid] == target:\n",
    "            return mid\n",
    "        elif nums[mid] < target:\n",
    "            left = mid + 1\n",
    "        else:\n",
    "            right = mid - 1\n",
    "    return -1\n",
    "\n",
    "def binary_search(nums: List[int], target: int) -> int:\n",
    "    \"\"\"Recursive solution O(logn), O(logn)\"\"\"\n",
    "    def recursive_search(left: int, right: int) -> int:\n",
    "        if left > right:\n",
    "            return -1\n",
    "        \n",
    "        mid = (left + right) // 2\n",
    "        if nums[mid] == target:\n",
    "            return mid\n",
    "        elif nums[mid] < target:\n",
    "            return recursive_search(mid + 1, right)\n",
    "        else:\n",
    "            return recursive_search(left, mid - 1)\n",
    "    \n",
    "    return recursive_search(0, len(nums) - 1)"
   ]
  },
  {
   "cell_type": "code",
   "execution_count": 13,
   "metadata": {},
   "outputs": [
    {
     "data": {
      "text/plain": [
       "3"
      ]
     },
     "execution_count": 13,
     "metadata": {},
     "output_type": "execute_result"
    }
   ],
   "source": [
    "nums = [-1,0,2,4,6,8]\n",
    "target = 4\n",
    "search(nums, target)"
   ]
  },
  {
   "cell_type": "code",
   "execution_count": 15,
   "metadata": {},
   "outputs": [
    {
     "data": {
      "text/plain": [
       "3"
      ]
     },
     "execution_count": 15,
     "metadata": {},
     "output_type": "execute_result"
    }
   ],
   "source": [
    "binary_search(nums, target)"
   ]
  },
  {
   "cell_type": "markdown",
   "metadata": {},
   "source": [
    "# Binary Search: Medium Problems"
   ]
  },
  {
   "cell_type": "markdown",
   "metadata": {},
   "source": [
    "Problem 1: Search a 2D Matrix\n",
    "\n",
    "https://leetcode.com/problems/search-a-2d-matrix/\n",
    "\n",
    "You are given an `m x n` 2-D integer array `matrix` and an integer `target`.\n",
    "\n",
    "Each row in `matrix` is sorted in non-decreasing order.\n",
    "The first integer of every row is greater than the last integer of the previous row.\n",
    "Return true if target exists within matrix or false otherwise.\n",
    "\n",
    "Can you write a solution that runs in `O(log(m * n))` time?\n",
    "\n",
    "Example 1:\n",
    "\n",
    "```\n",
    "Input: matrix = [[1,2,4,8],[10,11,12,13],[14,20,30,40]]\n",
    "target = 10\n",
    "Output: true\n",
    "```\n",
    "\n",
    "Example 2:\n",
    "\n",
    "```\n",
    "Input: matrix = [[1,2,4,8],[10,11,12,13],[14,20,30,40]]\n",
    "target = 15\n",
    "Output: false\n",
    "```\n",
    "\n",
    "Constraints:\n",
    "\n",
    "```\n",
    "m == matrix.length\n",
    "n == matrix[i].length\n",
    "1 <= m, n <= 100\n",
    "-10000 <= matrix[i][j], target <= 10000\n",
    "```\n"
   ]
  },
  {
   "cell_type": "code",
   "execution_count": 38,
   "metadata": {},
   "outputs": [],
   "source": [
    "def searchMatrix(matrix: List[List[int]], target: int) -> bool:\n",
    "    \"\"\"This solution runs in O(logm + logn), or O(log(m*n)). O(1) space\"\"\"\n",
    "    rows, cols = len(matrix), len(matrix[0])\n",
    "\n",
    "    l, r = 0, cols - 1\n",
    "    top, bottom = 0, rows - 1\n",
    "    \n",
    "    # O(logm)\n",
    "    while top <= bottom:\n",
    "        \n",
    "        # Find the middle row\n",
    "        row = (top + bottom) // 2\n",
    "\n",
    "        if target > matrix[row][-1]:\n",
    "            top = row + 1\n",
    "        elif target < matrix[row][0]:\n",
    "            bottom = row - 1\n",
    "        else:\n",
    "            break\n",
    "\n",
    "    if not (top <= bottom):\n",
    "        return False\n",
    "\n",
    "    row = (top + bottom) // 2\n",
    "\n",
    "    # O(logn)\n",
    "    while l <= r:\n",
    "        mid = (l + r) // 2\n",
    "        if matrix[row][mid] == target:\n",
    "            return True\n",
    "        elif matrix[row][mid] < target:\n",
    "            l = mid + 1\n",
    "        else:\n",
    "            r = mid - 1\n",
    "\n",
    "    return False\n",
    "\n",
    "def searchMatrix_one_pass(matrix: List[List[int]], target: int) -> bool:\n",
    "    \"\"\"Same as above, but in one pass. O(logm + logn), O(1) space. Essentially this flattens the matrix into a 1D array.\"\"\"\n",
    "\n",
    "    rows, cols = len(matrix), len(matrix[0])\n",
    "    l, r = 0, rows * cols - 1\n",
    "\n",
    "    while l <= r:\n",
    "        mid = (l + r) // 2\n",
    "        row, col = mid // cols, mid % cols\n",
    "        if target > matrix[row][col]:\n",
    "            l = mid + 1\n",
    "        elif target < matrix[row][col]:\n",
    "            r = mid - 1\n",
    "        else:\n",
    "            return True\n",
    "    return False"
   ]
  },
  {
   "cell_type": "code",
   "execution_count": 39,
   "metadata": {},
   "outputs": [
    {
     "data": {
      "text/plain": [
       "True"
      ]
     },
     "execution_count": 39,
     "metadata": {},
     "output_type": "execute_result"
    }
   ],
   "source": [
    "matrix = [[1,2,4,8],[10,11,12,13],[14,20,30,40]]\n",
    "target = 10\n",
    "searchMatrix(matrix, target)\n",
    "searchMatrix_one_pass(matrix, target)"
   ]
  },
  {
   "cell_type": "code",
   "execution_count": 40,
   "metadata": {},
   "outputs": [
    {
     "data": {
      "text/plain": [
       "False"
      ]
     },
     "execution_count": 40,
     "metadata": {},
     "output_type": "execute_result"
    }
   ],
   "source": [
    "matrix = [[1,2,4,8],[10,11,12,13],[14,20,30,40]]\n",
    "target = 15\n",
    "searchMatrix(matrix, target)\n",
    "searchMatrix_one_pass(matrix, target)"
   ]
  },
  {
   "cell_type": "markdown",
   "metadata": {},
   "source": [
    "## Problem 2: Koko Eating Bananas\n",
    "\n",
    "https://leetcode.com/problems/koko-eating-bananas/\n",
    "\n",
    "You are given an integer array `piles` where `piles[i]` is the number of bananas in the ith pile. You are also given an integer `h`, which represents the number of hours you have to eat all the bananas.\n",
    "\n",
    "You may decide your bananas-per-hour eating rate of `k`. Each hour, you may choose a pile of bananas and eats `k` bananas from that pile. If the pile has less than `k` bananas, you may finish eating the pile but you can not eat from another pile in the same hour.\n",
    "\n",
    "Return the minimum integer k such that you can eat all the bananas within h hours.\n",
    "\n",
    "Example 1:\n",
    "\n",
    "```\n",
    "Input: piles = [1,4,3,2], h = 9\n",
    "Output: 2\n",
    "```\n",
    "\n",
    "Explanation: With an eating rate of 2, you can eat the bananas in 6 hours. With an eating rate of 1, you would need 10 hours to eat all the bananas (which exceeds h=9), thus the minimum eating rate is 2.\n",
    "\n",
    "Example 2:\n",
    "\n",
    "```\n",
    "Input: piles = [25,10,23,4], h = 4\n",
    "Output: 25\n",
    "```\n",
    "\n",
    "Constraints:\n",
    "\n",
    "```\n",
    "1 <= piles.length <= 1,000\n",
    "piles.length <= h <= 1,000,000\n",
    "1 <= piles[i] <= 1,000,000,000\n",
    "```"
   ]
  },
  {
   "cell_type": "code",
   "execution_count": 106,
   "metadata": {},
   "outputs": [],
   "source": [
    "def minEatingSpeed(piles: List[int], h: int) -> int:\n",
    "    l, r = 1, max(piles)\n",
    "    res = r\n",
    "\n",
    "    # Binary search for the minimum eating speed\n",
    "    while l <= r:\n",
    "        mid = (l + r) // 2\n",
    "        # If Koko can eat all bananas with speed mid, then we need to check if there is a slower speed\n",
    "        if sum(ceil(pile / mid) for pile in piles) <= h:\n",
    "            res = mid\n",
    "            r = mid - 1\n",
    "        # If Koko cannot eat all bananas with speed mid, then we need to check a faster speed\n",
    "        else:\n",
    "            l = mid + 1\n",
    "    return res\n"
   ]
  },
  {
   "cell_type": "code",
   "execution_count": 107,
   "metadata": {},
   "outputs": [
    {
     "data": {
      "text/plain": [
       "2"
      ]
     },
     "execution_count": 107,
     "metadata": {},
     "output_type": "execute_result"
    }
   ],
   "source": [
    "piles = [1,4,3,2]\n",
    "h = 9\n",
    "minEatingSpeed(piles, h)"
   ]
  },
  {
   "cell_type": "code",
   "execution_count": 108,
   "metadata": {},
   "outputs": [
    {
     "data": {
      "text/plain": [
       "25"
      ]
     },
     "execution_count": 108,
     "metadata": {},
     "output_type": "execute_result"
    }
   ],
   "source": [
    "piles = [25,10,23,4]\n",
    "h = 4\n",
    "minEatingSpeed(piles, h)"
   ]
  },
  {
   "cell_type": "code",
   "execution_count": 109,
   "metadata": {},
   "outputs": [
    {
     "data": {
      "text/plain": [
       "23"
      ]
     },
     "execution_count": 109,
     "metadata": {},
     "output_type": "execute_result"
    }
   ],
   "source": [
    "piles = [3,6,7,11]\n",
    "h = 8\n",
    "minEatingSpeed(piles, h)\n",
    "piles = [30,11,23,4,20]\n",
    "h = 5\n",
    "minEatingSpeed(piles, h)\n",
    "piles = [30,11,23,4,20]\n",
    "h = 6\n",
    "minEatingSpeed(piles, h)"
   ]
  },
  {
   "cell_type": "markdown",
   "metadata": {},
   "source": [
    "## Problem 3: Find Minimum in Rotated Sorted Array\n",
    "\n",
    "https://leetcode.com/problems/find-minimum-in-rotated-sorted-array/\n",
    "\n",
    "You are given an array of length `n` which was originally sorted in ascending order. It has now been rotated between 1 and `n` times. For example, the array `nums = [1,2,3,4,5,6]` might become:\n",
    "\n",
    "`[3,4,5,6,1,2]` if it was rotated `4` times.\n",
    "`[1,2,3,4,5,6]` if it was rotated `6` times.\n",
    "\n",
    "Notice that rotating the array `4` times moves the last four elements of the array to the beginning. Rotating the array `6` times produces the original array.\n",
    "\n",
    "Assuming all elements in the rotated sorted array nums are unique, return the minimum element of this array.\n",
    "\n",
    "A solution that runs in `O(n)` time is trivial, can you write an algorithm that runs in `O(log n)` time?\n",
    "\n",
    "Example 1:\n",
    "\n",
    "```\n",
    "Input: nums = [3,4,5,6,1,2]\n",
    "Output: 1\n",
    "```\n",
    "\n",
    "Example 2:\n",
    "\n",
    "```\n",
    "Input: nums = [4,5,0,1,2,3]\n",
    "Output: 0\n",
    "```\n",
    "\n",
    "Example 3:\n",
    "\n",
    "```\n",
    "Input: nums = [4,5,6,7]\n",
    "Output: 4\n",
    "```\n",
    "\n",
    "Constraints:\n",
    "\n",
    "```\n",
    "1 <= nums.length <= 1000\n",
    "-1000 <= nums[i] <= 1000\n",
    "```"
   ]
  },
  {
   "cell_type": "code",
   "execution_count": 133,
   "metadata": {},
   "outputs": [],
   "source": [
    "def findMin(nums: List[int]) -> int:\n",
    "    \"\"\"O(logn) solution using binary search\"\"\"\n",
    "    res = nums[0]\n",
    "    l, r, = 0, len(nums) - 1\n",
    "\n",
    "    while l <= r:\n",
    "        # If the section is sorted, then the minimum is the first element\n",
    "        if nums[l] < nums[r]:\n",
    "            res = min(res, nums[l])\n",
    "            break\n",
    "        \n",
    "        # Find the middle element, and update the result if it is smaller\n",
    "        m = (l+r) // 2\n",
    "        res = min(res, nums[m])\n",
    "\n",
    "        # If the left half is smaller (and section is not sorted), then the minimum is in the right half\n",
    "        if nums[l] < nums[m]:\n",
    "            l = m + 1\n",
    "        # If the right half is smaller (and section is not sorted), then the minimum is in the left half\n",
    "        else:\n",
    "            r = m - 1\n",
    "    return res\n"
   ]
  },
  {
   "cell_type": "code",
   "execution_count": 134,
   "metadata": {},
   "outputs": [
    {
     "data": {
      "text/plain": [
       "1"
      ]
     },
     "execution_count": 134,
     "metadata": {},
     "output_type": "execute_result"
    }
   ],
   "source": [
    "nums = [3,4,5,6,1,2]\n",
    "findMin(nums)"
   ]
  },
  {
   "cell_type": "code",
   "execution_count": 135,
   "metadata": {},
   "outputs": [
    {
     "data": {
      "text/plain": [
       "0"
      ]
     },
     "execution_count": 135,
     "metadata": {},
     "output_type": "execute_result"
    }
   ],
   "source": [
    "nums = [4,5,0,1,2,3]\n",
    "findMin(nums)"
   ]
  },
  {
   "cell_type": "code",
   "execution_count": 136,
   "metadata": {},
   "outputs": [
    {
     "data": {
      "text/plain": [
       "4"
      ]
     },
     "execution_count": 136,
     "metadata": {},
     "output_type": "execute_result"
    }
   ],
   "source": [
    "nums = [4,5,6,7]\n",
    "findMin(nums)"
   ]
  },
  {
   "cell_type": "markdown",
   "metadata": {},
   "source": [
    "## Problem 4: Search in Rotated Sorted Array\n",
    "\n",
    "https://leetcode.com/problems/search-in-rotated-sorted-array/\n",
    "\n",
    "You are given an array of length `n` which was originally sorted in ascending order. It has now been rotated between `1` and `n` times. For example, the array `nums = [1,2,3,4,5,6]` might become:\n",
    "\n",
    "`[3,4,5,6,1,2]` if it was rotated `4` times.\n",
    "`[1,2,3,4,5,6]` if it was rotated `6` times.\n",
    "\n",
    "Given the rotated sorted array `nums` and an integer `target`, return the index of `target` within `nums`, or `-1` if it is not present.\n",
    "\n",
    "You may assume all elements in the sorted rotated array `nums` are unique,\n",
    "\n",
    "A solution that runs in `O(n)` time is trivial, can you write an algorithm that runs in `O(log n)` time?\n",
    "\n",
    "Example 1:\n",
    "\n",
    "```\n",
    "Input: nums = [3,4,5,6,1,2], target = 1\n",
    "Output: 4\n",
    "```\n",
    "\n",
    "Example 2:\n",
    "\n",
    "```\n",
    "Input: nums = [3,5,6,0,1,2], target = 4\n",
    "Output: -1\n",
    "```\n",
    "\n",
    "Constraints:\n",
    "\n",
    "```\n",
    "1 <= nums.length <= 1000\n",
    "-1000 <= nums[i] <= 1000\n",
    "-1000 <= target <= 1000\n",
    "```"
   ]
  },
  {
   "cell_type": "code",
   "execution_count": 162,
   "metadata": {},
   "outputs": [],
   "source": [
    "def search(nums: List[int], target: int) -> int:\n",
    "    l, r = 0, len(nums) - 1\n",
    "    pivot = nums[0]\n",
    "\n",
    "    # Find the pivot\n",
    "    while l <= r:\n",
    "        m = (l + r) // 2\n",
    "        # Check if the target was found\n",
    "        if target == nums[m]:\n",
    "            return m\n",
    "        \n",
    "        # If the left half is sorted\n",
    "        if nums[l] <= nums[m]:\n",
    "            # If the target is in the left half, then update the right pointer\n",
    "            if nums[l] <= target <= nums[m]:\n",
    "                r = m - 1\n",
    "            else:\n",
    "                l = m + 1\n",
    "                \n",
    "        # If the right half is sorted\n",
    "        else:\n",
    "            # If the target is in the right half, then update the left pointer\n",
    "            if nums[m] <= target <= nums[r]:\n",
    "                l = m + 1\n",
    "            else:\n",
    "                r = m - 1\n",
    "        \n",
    "    return -1"
   ]
  },
  {
   "cell_type": "code",
   "execution_count": 163,
   "metadata": {},
   "outputs": [
    {
     "data": {
      "text/plain": [
       "4"
      ]
     },
     "execution_count": 163,
     "metadata": {},
     "output_type": "execute_result"
    }
   ],
   "source": [
    "nums = [3,4,5,6,1,2]\n",
    "target = 1\n",
    "search(nums, target)"
   ]
  },
  {
   "cell_type": "markdown",
   "metadata": {},
   "source": [
    "## Problem 5: Time Based Key-Value Store\n",
    "\n",
    "https://leetcode.com/problems/time-based-key-value-store/\n",
    "\n",
    "Implement a time-based key-value data structure that supports:\n",
    "\n",
    "- Storing multiple values for the same key at specified time stamps\n",
    "- Retrieving the key's value at a specified timestamp\n",
    "\n",
    "Implement the TimeMap class:\n",
    "\n",
    "- `TimeMap()` Initializes the object.\n",
    "- `void set(String key, String value, int timestamp)` Stores the key key with the value value at the given time timestamp.\n",
    "- `String get(String key, int timestamp)` Returns the most recent value of key if set was previously called on it and the most recent timestamp for that key prev_timestamp is less than or equal to the given timestamp (`prev_timestamp <= timestamp`). If there are no values, it returns `\"\"`.\n",
    "\n",
    "Note: For all calls to set, the timestamps are in strictly increasing order.\n",
    "\n",
    "Example 1:\n",
    "\n",
    "```\n",
    "Input:\n",
    "[\"TimeMap\", \"set\", [\"alice\", \"happy\", 1], \"get\", [\"alice\", 1], \"get\", [\"alice\", 2], \"set\", [\"alice\", \"sad\", 3], \"get\", [\"alice\", 3]]\n",
    "\n",
    "Output:\n",
    "[null, null, \"happy\", \"happy\", null, \"sad\"]\n",
    "```\n",
    "\n",
    "Explanation:\n",
    "```\n",
    "TimeMap timeMap = new TimeMap();\n",
    "timeMap.set(\"alice\", \"happy\", 1);  // store the key \"alice\" and value \"happy\" along with timestamp = 1.\n",
    "timeMap.get(\"alice\", 1);           // return \"happy\"\n",
    "timeMap.get(\"alice\", 2);           // return \"happy\", there is no value stored for timestamp 2, thus we return the value at timestamp 1.\n",
    "timeMap.set(\"alice\", \"sad\", 3);    // store the key \"alice\" and value \"sad\" along with timestamp = 3.\n",
    "timeMap.get(\"alice\", 3);           // return \"sad\"\n",
    "```\n",
    "\n",
    "Constraints:\n",
    "\n",
    "```\n",
    "1 <= key.length, value.length <= 100\n",
    "key and value only include lowercase English letters and digits.\n",
    "1 <= timestamp <= 1000\n",
    "```"
   ]
  },
  {
   "cell_type": "code",
   "execution_count": 179,
   "metadata": {},
   "outputs": [],
   "source": [
    "class TimeMap:\n",
    "\n",
    "    def __init__(self):\n",
    "        self.vals = {}\n",
    "\n",
    "    def set(self, key: str, value: str, timestamp: int) -> None:\n",
    "        if key not in self.vals:\n",
    "            self.vals[key] = []\n",
    "        self.vals[key].append((timestamp, value))\n",
    "        \n",
    "\n",
    "    def get(self, key: str, timestamp: int) -> str:\n",
    "        res = \"\"\n",
    "        vals = self.vals[key]\n",
    "\n",
    "        # We can assume the values are sorted by timestamp, given question constraints. \n",
    "        # Otherwise, we would need to sort, or linear search.\n",
    "        # vals.sort(key=lambda x: x[0])\n",
    "        \n",
    "        l, r = 0, len(vals) - 1\n",
    "        while l <= r:\n",
    "            m = (l + r) // 2\n",
    "            if vals[m][0] <= timestamp:\n",
    "                res = vals[m][1]\n",
    "                l = m + 1\n",
    "            else:\n",
    "                r = m - 1\n",
    "        return res\n",
    "\n"
   ]
  },
  {
   "cell_type": "code",
   "execution_count": 180,
   "metadata": {},
   "outputs": [
    {
     "data": {
      "text/plain": [
       "'sad'"
      ]
     },
     "execution_count": 180,
     "metadata": {},
     "output_type": "execute_result"
    }
   ],
   "source": [
    "time_map = TimeMap()\n",
    "time_map.set(\"alice\", \"happy\", 1)\n",
    "time_map.get(\"alice\", 1)\n",
    "time_map.get(\"alice\", 2)\n",
    "time_map.set(\"alice\", \"sad\", 3)\n",
    "time_map.get(\"alice\", 3)"
   ]
  },
  {
   "cell_type": "markdown",
   "metadata": {},
   "source": [
    "# Binary Search: Hard Problems"
   ]
  },
  {
   "cell_type": "markdown",
   "metadata": {},
   "source": [
    "## Problem 1: Median of Two Sorted Arrays\n",
    "\n",
    "https://leetcode.com/problems/median-of-two-sorted-arrays/\n",
    "\n",
    "You are given two integer arrays `nums1` and `nums2` of size `m` and `n` respectively, where each is sorted in ascending order. Return the median value among all elements of the two arrays.\n",
    "\n",
    "Your solution must run in `O(log(m+n))` time.\n",
    "\n",
    "Example 1:\n",
    "\n",
    "```\n",
    "Input: nums1 = [1,2], nums2 = [3]\n",
    "Output: 2.0\n",
    "```\n",
    "\n",
    "Explanation: Among `[1, 2, 3]` the median is `2`.\n",
    "\n",
    "Example 2:\n",
    "\n",
    "```\n",
    "Input: nums1 = [1,3], nums2 = [2,4]\n",
    "Output: 2.5\n",
    "```\n",
    "\n",
    "Explanation: Among [1, 2, 3, 4] the median is (2 + 3) / 2 = 2.5.\n",
    "\n",
    "Constraints:\n",
    "\n",
    "```\n",
    "nums1.length == m\n",
    "nums2.length == n\n",
    "0 <= m <= 1000\n",
    "0 <= n <= 1000\n",
    "-10^6 <= nums1[i], nums2[i] <= 10^6\n",
    "```"
   ]
  },
  {
   "cell_type": "code",
   "execution_count": 210,
   "metadata": {},
   "outputs": [],
   "source": [
    "def findMedianSortedArrays(nums1: List[int], nums2: List[int]) -> float:\n",
    "    # Set a to be the shorter array, and b to be the longer array\n",
    "    if len(nums1) > len(nums2):\n",
    "        a, b = nums2, nums1\n",
    "    else:\n",
    "        a, b = nums1, nums2\n",
    "\n",
    "    # Get the total length and half length, set pointers for array a\n",
    "    total_len = len(a) + len(b)\n",
    "    half_len = total_len // 2\n",
    "    l, r = 0, len(a) - 1\n",
    "\n",
    "    while True:\n",
    "        i = (l + r) // 2    # Pointer for a\n",
    "        j = half_len - i - 2    # Pointer for b\n",
    "\n",
    "        # Get the values of the partitions, if out of bounds, then use -inf or inf\n",
    "        a_left = a[i] if i >= 0 else float('-inf')\n",
    "        a_right = a[i+1] if (i+1) < len(a) else float('inf')\n",
    "        b_left = b[j] if j >= 0 else float('-inf')\n",
    "        b_right = b[j+1] if (j+1) < len(b) else float('inf')\n",
    "\n",
    "        # Check if we have found the correct partition\n",
    "        if a_left <= b_right and b_left <= a_right:\n",
    "            # We have found the correct partition, now we need to find the median\n",
    "            if total_len % 2 == 1:\n",
    "                return min(a_right, b_right)\n",
    "            else:\n",
    "                return (max(a_left, b_left) + min(a_right, b_right)) / 2\n",
    "        # If the partition is incorrect, then we need to move the pointers\n",
    "        elif a_left > b_right:\n",
    "            # Move the right pointer for a\n",
    "            r = i - 1\n",
    "        else:\n",
    "            # Move the left pointer for a\n",
    "            l = i + 1"
   ]
  },
  {
   "cell_type": "code",
   "execution_count": 208,
   "metadata": {},
   "outputs": [
    {
     "data": {
      "text/plain": [
       "2"
      ]
     },
     "execution_count": 208,
     "metadata": {},
     "output_type": "execute_result"
    }
   ],
   "source": [
    "nums1 = [1,2]\n",
    "nums2 = [3]\n",
    "findMedianSortedArrays(nums1, nums2)"
   ]
  },
  {
   "cell_type": "code",
   "execution_count": 209,
   "metadata": {},
   "outputs": [
    {
     "data": {
      "text/plain": [
       "2.5"
      ]
     },
     "execution_count": 209,
     "metadata": {},
     "output_type": "execute_result"
    }
   ],
   "source": [
    "nums1 = [1,3]\n",
    "nums2 = [2,4]\n",
    "findMedianSortedArrays(nums1, nums2)"
   ]
  },
  {
   "cell_type": "code",
   "execution_count": null,
   "metadata": {},
   "outputs": [],
   "source": []
  }
 ],
 "metadata": {
  "kernelspec": {
   "display_name": ".venv",
   "language": "python",
   "name": "python3"
  },
  "language_info": {
   "codemirror_mode": {
    "name": "ipython",
    "version": 3
   },
   "file_extension": ".py",
   "mimetype": "text/x-python",
   "name": "python",
   "nbconvert_exporter": "python",
   "pygments_lexer": "ipython3",
   "version": "3.11.5"
  }
 },
 "nbformat": 4,
 "nbformat_minor": 2
}
