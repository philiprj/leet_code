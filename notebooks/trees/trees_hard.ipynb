{
 "cells": [
  {
   "cell_type": "code",
   "execution_count": 1,
   "metadata": {},
   "outputs": [],
   "source": [
    "class TreeNode:\n",
    "    def __init__(self, val=0, left=None, right=None):\n",
    "        self.val = val\n",
    "        self.left = left\n",
    "        self.right = right"
   ]
  },
  {
   "cell_type": "markdown",
   "metadata": {},
   "source": [
    "# Trees Hard Problems\n",
    "\n",
    "## Problem 1: Binary Tree Maximum Path Sum\n",
    "\n",
    "leetcode link: https://leetcode.com/problems/binary-tree-maximum-path-sum/\n",
    "\n",
    "Given the `root` of a non-empty binary tree, return the maximum path sum of any non-empty path.\n",
    "\n",
    "A path in a binary tree is a sequence of nodes where each pair of adjacent nodes has an edge connecting them. A node can not appear in the sequence more than once. The path does not necessarily need to include the root.\n",
    "\n",
    "The path sum of a path is the sum of the node's values in the path.\n",
    "\n",
    "Example 1:\n",
    "\n",
    "```\n",
    "Input: root = [1,2,3]\n",
    "Output: 6\n",
    "```\n",
    "\n",
    "Explanation: The path is 2 -> 1 -> 3 with a sum of 2 + 1 + 3 = 6.\n",
    "\n",
    "Constraints:\n",
    "\n",
    "- `1 <= The number of nodes in the tree <= 1000.`\n",
    "- `-1000 <= Node.val <= 1000`\n"
   ]
  },
  {
   "cell_type": "code",
   "execution_count": 4,
   "metadata": {},
   "outputs": [],
   "source": [
    "def maxPathSum(root: TreeNode | None) -> int:\n",
    "    \"\"\"\n",
    "    O(n), O(h)\n",
    "    \"\"\"\n",
    "    def max_gain(node: TreeNode | None) -> tuple[int, int]:\n",
    "        if not node:\n",
    "            return 0, float('-inf')\n",
    "\n",
    "        left_gain, left_max_sum = max_gain(node.left)\n",
    "        right_gain, right_max_sum = max_gain(node.right)\n",
    "\n",
    "        # If the gain is negative, we don't want to include it\n",
    "        left_gain = max(left_gain, 0)\n",
    "        right_gain = max(right_gain, 0)\n",
    "\n",
    "        # Max path running through this node, left to right\n",
    "        current_max_sum = max(left_max_sum, right_max_sum, node.val + left_gain + right_gain)\n",
    "\n",
    "        # Max path running through this node, up to the parent (only used one side of the subtree)\n",
    "        return node.val + max(left_gain, right_gain), current_max_sum\n",
    "\n",
    "    _, max_sum = max_gain(root)\n",
    "    return max_sum"
   ]
  },
  {
   "cell_type": "markdown",
   "metadata": {},
   "source": [
    "## Problem 2: Serialize and Deserialize Binary Tree\n",
    "\n",
    "leetcode link: https://leetcode.com/problems/serialize-and-deserialize-binary-tree/\n",
    "\n",
    "Implement an algorithm to serialize and deserialize a binary tree.\n",
    "\n",
    "Serialization is the process of converting an in-memory structure into a sequence of bits so that it can be stored or sent across a network to be reconstructed later in another computer environment.\n",
    "\n",
    "You just need to ensure that a binary tree can be serialized to a string and this string can be deserialized to the original tree structure. There is no additional restriction on how your serialization/deserialization algorithm should work.\n",
    "\n",
    "Note: The input/output format in the examples is the same as how NeetCode serializes a binary tree. You do not necessarily need to follow this format.\n",
    "\n",
    "Constraints:\n",
    "\n",
    "- `0 <= The number of nodes in the tree <= 1000.`\n",
    "- `-1000 <= Node.val <= 1000`\n"
   ]
  },
  {
   "cell_type": "code",
   "execution_count": 6,
   "metadata": {},
   "outputs": [],
   "source": [
    "class Codec:\n",
    "\n",
    "    # Encodes a tree to a single string.\n",
    "    def serialize(self, root: TreeNode | None) -> str:\n",
    "\n",
    "        def dfs(node: TreeNode | None, s: list[str]):\n",
    "            if not node:\n",
    "                s.append('N')\n",
    "                return\n",
    "\n",
    "            s.append(str(node.val))\n",
    "            dfs(node.left, s)\n",
    "            dfs(node.right, s)\n",
    "\n",
    "        s = []\n",
    "        dfs(root, s)\n",
    "        return \",\".join(s)\n",
    "\n",
    "    # Decodes your encoded data to tree.\n",
    "    def deserialize(self, data: str) -> TreeNode | None:\n",
    "\n",
    "        def dfs(s: list[str], i: int) -> tuple[TreeNode | None, int]:\n",
    "            if s[i] == \"N\":\n",
    "                return None, i + 1\n",
    "\n",
    "            node = TreeNode(int(s[i]))\n",
    "            i += 1\n",
    "            node.left, i = dfs(s, i)\n",
    "            node.right, i = dfs(s, i)\n",
    "\n",
    "            return node, i\n",
    "\n",
    "        s = data.split(\",\")\n",
    "        return dfs(s, 0)[0]"
   ]
  },
  {
   "cell_type": "code",
   "execution_count": null,
   "metadata": {},
   "outputs": [],
   "source": []
  }
 ],
 "metadata": {
  "kernelspec": {
   "display_name": ".venv",
   "language": "python",
   "name": "python3"
  },
  "language_info": {
   "codemirror_mode": {
    "name": "ipython",
    "version": 3
   },
   "file_extension": ".py",
   "mimetype": "text/x-python",
   "name": "python",
   "nbconvert_exporter": "python",
   "pygments_lexer": "ipython3",
   "version": "3.11.5"
  }
 },
 "nbformat": 4,
 "nbformat_minor": 2
}
