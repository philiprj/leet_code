{
 "cells": [
  {
   "cell_type": "markdown",
   "metadata": {},
   "source": [
    "## Helper Functions"
   ]
  },
  {
   "cell_type": "code",
   "execution_count": 1,
   "metadata": {},
   "outputs": [],
   "source": [
    "class TreeNode:\n",
    "    def __init__(self, val=0, left=None, right=None):\n",
    "        self.val = val\n",
    "        self.left = left\n",
    "        self.right = right"
   ]
  },
  {
   "cell_type": "code",
   "execution_count": 2,
   "metadata": {},
   "outputs": [],
   "source": [
    "def arrayToBinaryTree(arr: list[int]) -> TreeNode | None:\n",
    "    if not arr:\n",
    "        return None\n",
    "\n",
    "    root = TreeNode(arr[0])\n",
    "    queue = [root]\n",
    "    i = 1\n",
    "\n",
    "    while queue:\n",
    "        node = queue.pop(0)\n",
    "\n",
    "        if i < len(arr) and arr[i] is not None:\n",
    "            node.left = TreeNode(arr[i])\n",
    "            queue.append(node.left)\n",
    "        i += 1\n",
    "\n",
    "        if i < len(arr) and arr[i] is not None:\n",
    "            node.right = TreeNode(arr[i])\n",
    "            queue.append(node.right)\n",
    "        i += 1\n",
    "\n",
    "    return root"
   ]
  },
  {
   "cell_type": "code",
   "execution_count": 3,
   "metadata": {},
   "outputs": [],
   "source": [
    "def binaryTreeToArray(root: TreeNode | None) -> list[int | None]:\n",
    "    if not root:\n",
    "        return []\n",
    "\n",
    "    queue = [root]\n",
    "    arr = []\n",
    "\n",
    "    while queue:\n",
    "        node = queue.pop(0)\n",
    "\n",
    "        if node:\n",
    "            arr.append(node.val)\n",
    "            queue.append(node.left)\n",
    "            queue.append(node.right)\n",
    "        else:\n",
    "            arr.append(None)\n",
    "\n",
    "    # Remove trailing None values\n",
    "    while arr and arr[-1] is None:\n",
    "        arr.pop()\n",
    "\n",
    "    return arr"
   ]
  },
  {
   "cell_type": "markdown",
   "metadata": {},
   "source": [
    "# Trees Medium Problems\n",
    "\n",
    "## Problem 1: Lowest Common Ancestor in Binary Search Tree\n",
    "\n",
    "leetcode link: https://leetcode.com/problems/lowest-common-ancestor-of-a-binary-search-tree/\n",
    "\n",
    "Given a binary search tree (BST) where all node values are unique, and two nodes from the tree `p` and `q`, return the lowest common ancestor (LCA) of the two nodes.\n",
    "\n",
    "The lowest common ancestor between two nodes `p` and `q` is the lowest node in a tree `T` such that both `p` and `q` are descendants. The ancestor is allowed to be a descendant of itself.\n",
    "\n",
    "Example 1:\n",
    "\n",
    "```\n",
    "Input: root = [5,3,8,1,4,7,9,null,2], p = 3, q = 8\n",
    "\n",
    "Output: 5\n",
    "```\n",
    "\n",
    "Constraints:\n",
    "\n",
    "- `2 <= The number of nodes in the tree <= 100.`\n",
    "- `-100 <= Node.val <= 100`\n",
    "- `p != q`\n",
    "- `p` and `q` will both exist in the BST.\n"
   ]
  },
  {
   "cell_type": "code",
   "execution_count": 12,
   "metadata": {},
   "outputs": [],
   "source": [
    "def lowestCommonAncestor(root: TreeNode, p: TreeNode, q: TreeNode) -> TreeNode:\n",
    "    \"\"\"This solution is inefficient as it searches the tree for each node\"\"\"\n",
    "    while True:\n",
    "        if search_tree(root.left, p) and search_tree(root.left, q):\n",
    "            root = root.left\n",
    "        elif search_tree(root.right, p) and search_tree(root.right, q):\n",
    "            root = root.right\n",
    "        else:\n",
    "            return root\n",
    "\n",
    "\n",
    "def search_tree(root: TreeNode | None, target: TreeNode) -> bool:\n",
    "    if not root:\n",
    "        return False\n",
    "    if root.val == target.val:\n",
    "        return True\n",
    "    return search_tree(root.left, target) or search_tree(root.right, target)\n",
    "\n",
    "def lowestCommonAncestor_efficient(root: TreeNode, p: TreeNode, q: TreeNode) -> TreeNode:\n",
    "    \"\"\"\n",
    "    This solution is efficient as it only traverses the tree once\n",
    "    Note this solution assumes that p and q are in the tree, and that the tree is a BST\n",
    "    Otherwise, we would need to search the tree for each node.\n",
    "    \"\"\"\n",
    "    curr = root\n",
    "    while curr:\n",
    "        if p.val < curr.val and q.val < curr.val:\n",
    "            curr = curr.left\n",
    "        elif p.val > curr.val and q.val > curr.val:\n",
    "            curr = curr.right\n",
    "        else:\n",
    "            return curr\n",
    "\n"
   ]
  },
  {
   "cell_type": "code",
   "execution_count": 9,
   "metadata": {},
   "outputs": [
    {
     "name": "stdout",
     "output_type": "stream",
     "text": [
      "3\n"
     ]
    }
   ],
   "source": [
    "root = [5,3,8,1,4,7,9,None,2]\n",
    "p = 3\n",
    "q = 4\n",
    "root = arrayToBinaryTree(root)\n",
    "p = TreeNode(p)\n",
    "q = TreeNode(q)\n",
    "new_root = lowestCommonAncestor(root, p, q)\n",
    "print(new_root.val)\n"
   ]
  },
  {
   "cell_type": "code",
   "execution_count": 10,
   "metadata": {},
   "outputs": [
    {
     "name": "stdout",
     "output_type": "stream",
     "text": [
      "5\n"
     ]
    }
   ],
   "source": [
    "root = [5,3,8,1,4,7,9,None,2]\n",
    "p = 3\n",
    "q = 8\n",
    "root = arrayToBinaryTree(root)\n",
    "p = TreeNode(p)\n",
    "q = TreeNode(q)\n",
    "new_root = lowestCommonAncestor(root, p, q)\n",
    "print(new_root.val)"
   ]
  },
  {
   "cell_type": "markdown",
   "metadata": {},
   "source": [
    "## Problem 2: Binary Tree Level Order Traversal\n",
    "\n",
    "leetcode link: https://leetcode.com/problems/binary-tree-level-order-traversal/\n",
    "\n",
    "Given a binary tree `root`, return the level order traversal of it as a nested list, where each sublist contains the values of nodes at a particular level in the tree, from left to right.\n",
    "\n",
    "Example 1:\n",
    "\n",
    "```\n",
    "Input: root = [1,2,3,4,5,6,7]\n",
    "\n",
    "Output: [[1],[2,3],[4,5,6,7]]\n",
    "```\n",
    "\n",
    "Example 2:\n",
    "\n",
    "```\n",
    "Input: root = [1]\n",
    "\n",
    "Output: [[1]]\n",
    "```\n",
    "\n",
    "Constraints:\n",
    "\n",
    "- The number of nodes in the tree is in the range `[0, 1000]`.\n",
    "- `-1000 <= Node.val <= 1000`\n"
   ]
  },
  {
   "cell_type": "code",
   "execution_count": 4,
   "metadata": {},
   "outputs": [],
   "source": [
    "from collections import deque"
   ]
  },
  {
   "cell_type": "code",
   "execution_count": 14,
   "metadata": {},
   "outputs": [],
   "source": [
    "def levelOrder(root: TreeNode | None) -> list[list[int]]:\n",
    "    \"\"\"\n",
    "    O(n), O(n)\n",
    "    Solution is essentiall BFS. Create a queue, \n",
    "    as we visit nodes add the value to the result and add children to queue\n",
    "    \"\"\"\n",
    "    result = []\n",
    "    q = deque()\n",
    "    q.append(root)\n",
    "\n",
    "    while q:\n",
    "        level = []\n",
    "        q_len = len(q)\n",
    "        for i in range(q_len):\n",
    "            node = q.popleft()\n",
    "            if node:\n",
    "                level.append(node.val)\n",
    "                q.extend([node.left, node.right])\n",
    "        if level:\n",
    "            result.append(level)\n",
    "\n",
    "    return result"
   ]
  },
  {
   "cell_type": "code",
   "execution_count": 16,
   "metadata": {},
   "outputs": [
    {
     "name": "stdout",
     "output_type": "stream",
     "text": [
      "[[1], [2, 3], [4, 5, 6, 7]]\n",
      "[]\n"
     ]
    }
   ],
   "source": [
    "root = [1,2,3,4,5,6,7]\n",
    "root = arrayToBinaryTree(root)\n",
    "print(levelOrder(root))\n",
    "\n",
    "root = []\n",
    "root = arrayToBinaryTree(root)\n",
    "print(levelOrder(root))"
   ]
  },
  {
   "cell_type": "markdown",
   "metadata": {},
   "source": [
    "## Problem 3: Binary Tree Right Side View\n",
    "\n",
    "leetcode link: https://leetcode.com/problems/binary-tree-right-side-view/\n",
    "\n",
    "Given a binary tree `root`, Return only the values of the nodes that are visible from the right side of the tree, ordered from top to bottom.\n",
    "\n",
    "Example 1:\n",
    "\n",
    "```\n",
    "Input: root = [1,2,3]\n",
    "Output: [1,3]\n",
    "```\n",
    "\n",
    "Example 2:\n",
    "\n",
    "```\n",
    "Input: root = [1,2,3,4,5,6,7]\n",
    "Output: [1,3,7]\n",
    "```\n",
    "\n",
    "Constraints:\n",
    "\n",
    "- `0 <= number of nodes in the tree <= 100`\n",
    "- `-100 <= Node.val <= 100`\n"
   ]
  },
  {
   "cell_type": "code",
   "execution_count": 23,
   "metadata": {},
   "outputs": [],
   "source": [
    "def rightSideView(root: TreeNode | None) -> list[int]:\n",
    "    \"\"\"\n",
    "    O(n), O(n)\n",
    "    \"\"\"\n",
    "    result = []\n",
    "    q = deque()\n",
    "    q.append(root)\n",
    "\n",
    "    while q:\n",
    "        right_side = None\n",
    "        q_len = len(q)\n",
    "\n",
    "        for _ in range(q_len):\n",
    "            node = q.popleft()\n",
    "            if node:\n",
    "                right_side = node.val\n",
    "                q.extend([node.left, node.right])\n",
    "        # If we have a right side, add it to the result\n",
    "        if right_side:\n",
    "            result.append(right_side)\n",
    "\n",
    "    return result\n"
   ]
  },
  {
   "cell_type": "code",
   "execution_count": 24,
   "metadata": {},
   "outputs": [
    {
     "name": "stdout",
     "output_type": "stream",
     "text": [
      "[1, 3]\n",
      "[1, 3, 7]\n",
      "[1, 3, 4, 5]\n"
     ]
    }
   ],
   "source": [
    "root = [1,2,3]\n",
    "root = arrayToBinaryTree(root)\n",
    "print(rightSideView(root))\n",
    "\n",
    "root = [1,2,3,4,5,6,7]\n",
    "root = arrayToBinaryTree(root)\n",
    "print(rightSideView(root))\n",
    "\n",
    "root = [1,2,3,4,None,None,None,5]\n",
    "root = arrayToBinaryTree(root)\n",
    "print(rightSideView(root))"
   ]
  },
  {
   "cell_type": "markdown",
   "metadata": {},
   "source": [
    "## Problem 4: Count Good Nodes in Binary Tree\n",
    "\n",
    "leetcode link: https://leetcode.com/problems/count-good-nodes-in-binary-tree/\n",
    "\n",
    "Given a binary tree `root`, a node `x` is considered good if the path from the root of the tree to the node `x` contains no nodes with a value greater than the value of node `x`.\n",
    "\n",
    "Return the number of good nodes in the binary tree.\n",
    "\n",
    "Example 1:\n",
    "\n",
    "```\n",
    "Input: root = [2,1,1,3,null,1,5]\n",
    "Output: 3\n",
    "```\n",
    "\n",
    "Constraints:\n",
    "\n",
    "- `1 <= number of nodes in the tree <= 100`\n",
    "- `-100 <= Node.val <= 100`"
   ]
  },
  {
   "cell_type": "code",
   "execution_count": 26,
   "metadata": {},
   "outputs": [],
   "source": [
    "def goodNodes(root: TreeNode) -> int:\n",
    "    \"\"\"\n",
    "    O(n), O(n)\n",
    "    \"\"\"\n",
    "    return search_tree(root, root.val)\n",
    "\n",
    "def search_tree(root: TreeNode | None, max_val: int) -> int:\n",
    "    if not root:\n",
    "        return 0\n",
    "    if root.val >= max_val:\n",
    "        good_nodes = 1\n",
    "    else:\n",
    "        good_nodes = 0\n",
    "\n",
    "    max_val = max(max_val, root.val)\n",
    "\n",
    "    return good_nodes + search_tree(root.left, max_val) + search_tree(root.right, max_val)\n"
   ]
  },
  {
   "cell_type": "code",
   "execution_count": 28,
   "metadata": {},
   "outputs": [
    {
     "name": "stdout",
     "output_type": "stream",
     "text": [
      "4\n",
      "3\n"
     ]
    }
   ],
   "source": [
    "root = [1,2,-1,3,4]\n",
    "root = arrayToBinaryTree(root)\n",
    "print(goodNodes(root))\n",
    "\n",
    "root = [2,1,1,3,None,1,5]\n",
    "root = arrayToBinaryTree(root)\n",
    "print(goodNodes(root))\n"
   ]
  },
  {
   "cell_type": "markdown",
   "metadata": {},
   "source": [
    "## Problem 5: Validate Binary Search Tree\n",
    "\n",
    "leetcode link: https://leetcode.com/problems/validate-binary-search-tree/\n",
    "\n",
    "Given a binary tree `root`, determine if it is a valid binary search tree (BST).\n",
    "\n",
    "Return `true` if it is a valid binary search tree, otherwise return `false`.\n",
    "\n",
    "A valid binary search tree satisfies the following constraints:\n",
    "\n",
    "- The left subtree of every node contains only nodes with keys less than the node's key.\n",
    "- The right subtree of every node contains only nodes with keys greater than the node's key.\n",
    "- Both the left and right subtrees are also binary search trees.\n",
    "\n",
    "Constraints:\n",
    "\n",
    "- `1 <= The number of nodes in the tree <= 1000.`\n",
    "- `-1000 <= Node.val <= 1000`"
   ]
  },
  {
   "cell_type": "code",
   "execution_count": 33,
   "metadata": {},
   "outputs": [],
   "source": [
    "def isValidBST(root: TreeNode | None) -> bool:\n",
    "    \"\"\"\n",
    "    O(n), O(n)\n",
    "    \"\"\"\n",
    "    return valid(root, float(\"-inf\"), float(\"inf\"))\n",
    "\n",
    "def valid(node: TreeNode | None, left: int, right: int) -> bool:\n",
    "    \"\"\"The approach set the left and right bounds for each node\"\"\"\n",
    "    if not node:\n",
    "        return True\n",
    "    if (left > node.val) or (right < node.val):\n",
    "        return False\n",
    "\n",
    "    return valid(node.left, left, node.val) and valid(node.right, node.val, right)\n"
   ]
  },
  {
   "cell_type": "code",
   "execution_count": 34,
   "metadata": {},
   "outputs": [
    {
     "name": "stdout",
     "output_type": "stream",
     "text": [
      "True\n"
     ]
    }
   ],
   "source": [
    "root = [2,1,3]\n",
    "root = arrayToBinaryTree(root)\n",
    "print(isValidBST(root))"
   ]
  },
  {
   "cell_type": "code",
   "execution_count": 35,
   "metadata": {},
   "outputs": [
    {
     "name": "stdout",
     "output_type": "stream",
     "text": [
      "False\n"
     ]
    }
   ],
   "source": [
    "root = [1,2,3]\n",
    "root = arrayToBinaryTree(root)\n",
    "print(isValidBST(root))"
   ]
  },
  {
   "cell_type": "markdown",
   "metadata": {},
   "source": [
    "## Problem 6: Kth Smallest Element in a BST\n",
    "\n",
    "leetcode link: https://leetcode.com/problems/kth-smallest-element-in-a-bst/\n",
    "\n",
    "Given the root of a binary search tree, and an integer `k`, return the `kth` smallest value (1-indexed) in the tree.\n",
    "\n",
    "A binary search tree satisfies the following constraints:\n",
    "\n",
    "- The left subtree of every node contains only nodes with keys less than the node's key.\n",
    "- The right subtree of every node contains only nodes with keys greater than the node's key.\n",
    "- Both the left and right subtrees are also binary search trees.\n",
    "\n",
    "Example 1:\n",
    "\n",
    "```\n",
    "Input: root = [4,3,5,2,null], k = 4\n",
    "Output: 5\n",
    "```\n",
    "\n",
    "Constraints:\n",
    "\n",
    "- `1 <= k <= The number of nodes in the tree`\n",
    "- `-1000 <= Node.val <= 1000`"
   ]
  },
  {
   "cell_type": "code",
   "execution_count": 41,
   "metadata": {},
   "outputs": [],
   "source": [
    "def kthSmallest(root: TreeNode | None, k: int) -> int:\n",
    "    \"\"\"\n",
    "    O(n), O(n)\n",
    "    Solution probably involves using a stack to traverse the tree,\n",
    "    finding the smallest value then backtracking to find the kth smallest value\n",
    "    We need to add the left children to the stack first, then the right children\n",
    "    \"\"\"\n",
    "    stack = []\n",
    "    curr = root\n",
    "\n",
    "    while stack or curr:\n",
    "        # Traverse the leftmost node first\n",
    "        while curr:\n",
    "            stack.append(curr)\n",
    "            curr = curr.left\n",
    "\n",
    "        # Pop the last node from the stack\n",
    "        curr = stack.pop()\n",
    "        k -= 1\n",
    "        # If we have found the kth smallest value, return it\n",
    "        if k == 0:\n",
    "            return curr.val\n",
    "        # If not, traverse the right children,\n",
    "        # if right child is None, the loop will backtrack to the parent node\n",
    "        curr = curr.right\n"
   ]
  },
  {
   "cell_type": "code",
   "execution_count": 39,
   "metadata": {},
   "outputs": [
    {
     "name": "stdout",
     "output_type": "stream",
     "text": [
      "1\n",
      "5\n"
     ]
    }
   ],
   "source": [
    "root = [2,1,3]\n",
    "k = 1\n",
    "root = arrayToBinaryTree(root)\n",
    "print(kthSmallest(root, k))\n",
    "\n",
    "root = [4,3,5,2,None]\n",
    "k = 4\n",
    "root = arrayToBinaryTree(root)\n",
    "print(kthSmallest(root, k))"
   ]
  },
  {
   "cell_type": "markdown",
   "metadata": {},
   "source": [
    "## Problem 7: Construct Binary Tree from Preorder and Inorder Traversal\n",
    "\n",
    "leetcode link: https://leetcode.com/problems/construct-binary-tree-from-preorder-and-inorder-traversal/\n",
    "\n",
    "You are given two integer arrays `preorder` and `inorder`.\n",
    "\n",
    "- `preorder` is the preorder traversal of a binary tree\n",
    "- `inorder` is the inorder traversal of the same tree\n",
    "- Both arrays are of the same size and consist of unique values.\n",
    "\n",
    "Rebuild the binary tree from the preorder and inorder traversals and return its root.\n",
    "\n",
    "Example 1:\n",
    "\n",
    "```\n",
    "Input: preorder = [1,2,3,4], inorder = [2,1,3,4]\n",
    "Output: [1,2,3,null,null,null,4]\n",
    "```\n",
    "\n",
    "Constraints:\n",
    "\n",
    "- `1 <= inorder.length <= 1000.`\n",
    "- `inorder.length == preorder.length`\n",
    "- `-1000 <= preorder[i], inorder[i] <= 1000`"
   ]
  },
  {
   "cell_type": "code",
   "execution_count": 42,
   "metadata": {},
   "outputs": [],
   "source": [
    "def buildTree(preorder: list[int], inorder: list[int]) -> TreeNode | None:\n",
    "    \"\"\"\n",
    "    O(n), O(n)\n",
    "    \"\"\"\n",
    "    if not preorder or not inorder:\n",
    "        return None\n",
    "\n",
    "    # The first element in the preorder list is the root\n",
    "    root = TreeNode(preorder[0])\n",
    "    # Find the index of the root in the inorder list\n",
    "    mid = inorder.index(preorder[0])\n",
    "    # Recursively build the left and right subtrees\n",
    "    root.left = buildTree(preorder[1:mid + 1], inorder[:mid])\n",
    "    root.right = buildTree(preorder[mid + 1:], inorder[mid + 1:])\n",
    "\n",
    "    return root\n"
   ]
  },
  {
   "cell_type": "code",
   "execution_count": null,
   "metadata": {},
   "outputs": [],
   "source": []
  }
 ],
 "metadata": {
  "kernelspec": {
   "display_name": ".venv",
   "language": "python",
   "name": "python3"
  },
  "language_info": {
   "codemirror_mode": {
    "name": "ipython",
    "version": 3
   },
   "file_extension": ".py",
   "mimetype": "text/x-python",
   "name": "python",
   "nbconvert_exporter": "python",
   "pygments_lexer": "ipython3",
   "version": "3.11.5"
  }
 },
 "nbformat": 4,
 "nbformat_minor": 2
}
