{
 "cells": [
  {
   "cell_type": "markdown",
   "metadata": {},
   "source": [
    "# Trees Easy Problems"
   ]
  },
  {
   "cell_type": "markdown",
   "metadata": {},
   "source": [
    "### Helpers"
   ]
  },
  {
   "cell_type": "code",
   "execution_count": 14,
   "metadata": {},
   "outputs": [],
   "source": [
    "class TreeNode:\n",
    "    def __init__(self, val=0, left=None, right=None):\n",
    "        self.val = val\n",
    "        self.left = left\n",
    "        self.right = right"
   ]
  },
  {
   "cell_type": "code",
   "execution_count": 15,
   "metadata": {},
   "outputs": [],
   "source": [
    "def arrayToBinaryTree(arr: list[int]) -> TreeNode | None:\n",
    "    if not arr:\n",
    "        return None\n",
    "\n",
    "    root = TreeNode(arr[0])\n",
    "    queue = [root]\n",
    "    i = 1\n",
    "\n",
    "    while queue:\n",
    "        node = queue.pop(0)\n",
    "\n",
    "        if i < len(arr) and arr[i] is not None:\n",
    "            node.left = TreeNode(arr[i])\n",
    "            queue.append(node.left)\n",
    "        i += 1\n",
    "\n",
    "        if i < len(arr) and arr[i] is not None:\n",
    "            node.right = TreeNode(arr[i])\n",
    "            queue.append(node.right)\n",
    "        i += 1\n",
    "\n",
    "    return root\n"
   ]
  },
  {
   "cell_type": "code",
   "execution_count": 16,
   "metadata": {},
   "outputs": [],
   "source": [
    "def binaryTreeToArray(root: TreeNode | None) -> list[int | None]:\n",
    "    if not root:\n",
    "        return []\n",
    "\n",
    "    queue = [root]\n",
    "    arr = []\n",
    "\n",
    "    while queue:\n",
    "        node = queue.pop(0)\n",
    "\n",
    "        if node:\n",
    "            arr.append(node.val)\n",
    "            queue.append(node.left)\n",
    "            queue.append(node.right)\n",
    "        else:\n",
    "            arr.append(None)\n",
    "\n",
    "    # Remove trailing None values\n",
    "    while arr and arr[-1] is None:\n",
    "        arr.pop()\n",
    "\n",
    "    return arr"
   ]
  },
  {
   "cell_type": "markdown",
   "metadata": {},
   "source": [
    "## Problem 1: Invert Binary Tree\n",
    "\n",
    "https://leetcode.com/problems/invert-binary-tree/\n",
    "\n",
    "You are given the root of a binary tree root. Invert the binary tree and return its root.\n",
    "\n",
    "Example 1:\n",
    "\n",
    "```\n",
    "Input: root = [1,2,3,4,5,6,7]\n",
    "Output: [1,3,2,7,6,5,4]\n",
    "```\n",
    "\n",
    "Example 2:\n",
    "\n",
    "```\n",
    "Input: root = [3,2,1]\n",
    "Output: [3,1,2]\n",
    "```\n",
    "\n",
    "Example 3:\n",
    "\n",
    "```\n",
    "Input: root = []\n",
    "Output: []\n",
    "```\n",
    "\n",
    "Constraints:\n",
    "\n",
    "- `0 <= The number of nodes in the tree <= 100`.\n",
    "- `-100 <= Node.val <= 100`.\n",
    "\n"
   ]
  },
  {
   "cell_type": "code",
   "execution_count": 22,
   "metadata": {},
   "outputs": [],
   "source": [
    "def invertTree(root: TreeNode | None) -> TreeNode | None:\n",
    "    \"\"\"O(n) time complexity, O(n) space complexity. \n",
    "    Computes each node once, and stores a stack of nodes to be processed.\n",
    "    This is recursive DFS solution (reaches end of left branch before right).\n",
    "    \"\"\"\n",
    "    if not root:\n",
    "        return None\n",
    "\n",
    "    root.left, root.right = root.right, root.left\n",
    "    invertTree(root.left)\n",
    "    invertTree(root.right)\n",
    "    return root"
   ]
  },
  {
   "cell_type": "code",
   "execution_count": 21,
   "metadata": {},
   "outputs": [
    {
     "name": "stdout",
     "output_type": "stream",
     "text": [
      "[3, 1, 2]\n"
     ]
    }
   ],
   "source": [
    "# root = [1,2,3,4,5,6,7]\n",
    "root = [3,2,1]\n",
    "root = arrayToBinaryTree(root)\n",
    "new_root = invertTree(root)\n",
    "print(binaryTreeToArray(new_root))\n"
   ]
  },
  {
   "cell_type": "markdown",
   "metadata": {},
   "source": [
    "## Problem 2: Maximum Depth of Binary Tree\n",
    "\n",
    "https://leetcode.com/problems/maximum-depth-of-binary-tree/\n",
    "\n",
    "Given the root of a binary tree, return its depth.\n",
    "\n",
    "The depth of a binary tree is defined as the number of nodes along the longest path from the root node down to the farthest leaf node.\n",
    "\n",
    "Example 1:\n",
    "\n",
    "```\n",
    "Input: root = [1,2,3,null,null,4]\n",
    "Output: 3\n",
    "```\n",
    "\n",
    "Example 2:\n",
    "\n",
    "```\n",
    "Input: root = []\n",
    "Output: 0\n",
    "```\n",
    "\n",
    "Constraints:\n",
    "\n",
    "- `0 <= The number of nodes in the tree <= 100`.\n",
    "- `-100 <= Node.val <= 100`.\n",
    "\n"
   ]
  },
  {
   "cell_type": "code",
   "execution_count": 23,
   "metadata": {},
   "outputs": [],
   "source": [
    "def maxDepth(root: TreeNode | None) -> int:\n",
    "    \"\"\"O(n) time complexity, O(n) space complexity.\n",
    "    \"\"\"\n",
    "    if not root:\n",
    "        return 0\n",
    "    \n",
    "    return 1 + max(maxDepth(root.left), maxDepth(root.right))\n"
   ]
  },
  {
   "cell_type": "code",
   "execution_count": 25,
   "metadata": {},
   "outputs": [
    {
     "name": "stdout",
     "output_type": "stream",
     "text": [
      "0\n"
     ]
    }
   ],
   "source": [
    "# root = [1,2,3,None,None,4]\n",
    "root = []\n",
    "root = arrayToBinaryTree(root)\n",
    "print(maxDepth(root))"
   ]
  },
  {
   "cell_type": "markdown",
   "metadata": {},
   "source": [
    "## Problem 3: Diameter of Binary Tree\n",
    "\n",
    "https://leetcode.com/problems/diameter-of-binary-tree/\n",
    "\n",
    "The diameter of a binary tree is defined as the length of the longest path between any two nodes within the tree. The path does not necessarily have to pass through the root.\n",
    "\n",
    "The length of a path between two nodes in a binary tree is the number of edges between the nodes.\n",
    "\n",
    "Given the root of a binary tree root, return the diameter of the tree.\n",
    "\n",
    "Example 1:\n",
    "\n",
    "```\n",
    "Input: root = [1,null,2,3,4,5]\n",
    "Output: 3\n",
    "```\n",
    "\n",
    "Example 2:\n",
    "\n",
    "```\n",
    "Input: root = [1,2,3]\n",
    "Output: 2\n",
    "```\n",
    "\n",
    "Constraints:\n",
    "\n",
    "- `1 <= The number of nodes in the tree <= 100`.\n",
    "- `-100 <= Node.val <= 100`.\n"
   ]
  },
  {
   "cell_type": "code",
   "execution_count": 31,
   "metadata": {},
   "outputs": [],
   "source": [
    "def diameterOfBinaryTree(root: TreeNode | None) -> int:\n",
    "    \"\"\"O(n) time complexity, O(n) space complexity.\n",
    "    Alternative solution uses a global variable to store the result.\n",
    "    \"\"\"\n",
    "    def dfs(root: TreeNode | None, res: int = 0) -> int:\n",
    "        if not root:\n",
    "            return 0, 0\n",
    "\n",
    "        left_diameter, _ = dfs(root.left)\n",
    "        right_diameter, _ = dfs(root.right)\n",
    "        res = max(res, left_diameter + right_diameter)\n",
    "\n",
    "        return 1 + max(left_diameter, right_diameter), res\n",
    "\n",
    "    res = 0\n",
    "\n",
    "    _, res = dfs(root, res)\n",
    "    return res\n"
   ]
  },
  {
   "cell_type": "code",
   "execution_count": 34,
   "metadata": {},
   "outputs": [
    {
     "name": "stdout",
     "output_type": "stream",
     "text": [
      "2\n"
     ]
    }
   ],
   "source": [
    "# root = [1,None,2,3,4,5]\n",
    "root = [1,2,3]\n",
    "root = arrayToBinaryTree(root)\n",
    "print(diameterOfBinaryTree(root))\n"
   ]
  },
  {
   "cell_type": "markdown",
   "metadata": {},
   "source": [
    "## Problem 4: Same Binary Tree\n",
    "\n",
    "https://leetcode.com/problems/same-tree/\n",
    "\n",
    "Given the roots of two binary trees `p` and `q`, write a function to check if they are the same or not. Return `true` if they are the same, and `false` otherwise.\n",
    "\n",
    "Two binary trees are considered the same if they are structurally identical and the nodes have the same value.\n",
    "\n",
    "Example 1:\n",
    "\n",
    "```\n",
    "Input: p = [1,2,3], q = [1,2,3]\n",
    "Output: true\n",
    "```\n",
    "\n",
    "Example 2:\n",
    "\n",
    "```\n",
    "Input: p = [1,2], q = [1,null,2]\n",
    "Output: false\n",
    "```\n",
    "\n",
    "Example 3:\n",
    "\n",
    "```\n",
    "Input: p = [1,2,3], q = [1,3,2]\n",
    "Output: false\n",
    "```\n",
    "\n",
    "Constraints:\n",
    "\n",
    "- `0 <= The number of nodes in both trees <= 100`.\n",
    "- `-100 <= Node.val <= 100`."
   ]
  },
  {
   "cell_type": "code",
   "execution_count": 40,
   "metadata": {},
   "outputs": [],
   "source": [
    "def isSameTree(p: TreeNode | None, q: TreeNode | None) -> bool:\n",
    "    \"\"\"O(n) time complexity, O(n) space complexity.\n",
    "    DFS solution.\n",
    "    \"\"\"\n",
    "    # Both trees are empty return True\n",
    "    if not p and not q:\n",
    "        return True\n",
    "    # One tree is empty, the other is not return False\n",
    "    if (not p and q) or (p and not q):\n",
    "        return False\n",
    "    # Values are not equal return False\n",
    "    if p.val != q.val:\n",
    "        return False\n",
    "\n",
    "    # Recursively check left and right subtrees\n",
    "    return isSameTree(p.left, q.left) and isSameTree(p.right, q.right)"
   ]
  },
  {
   "cell_type": "code",
   "execution_count": 41,
   "metadata": {},
   "outputs": [],
   "source": [
    "p = [1,2,3]\n",
    "q = [1,2,3]\n",
    "p = arrayToBinaryTree(p)\n",
    "q = arrayToBinaryTree(q)\n",
    "assert isSameTree(p, q) is True\n",
    "\n",
    "p = [4,7]\n",
    "q = [4,None,7]\n",
    "p = arrayToBinaryTree(p)\n",
    "q = arrayToBinaryTree(q)\n",
    "assert isSameTree(p, q) is False\n",
    "\n",
    "p = [1,2,3]\n",
    "q = [1,3,2]\n",
    "p = arrayToBinaryTree(p)\n",
    "q = arrayToBinaryTree(q)\n",
    "assert isSameTree(p, q) is False\n"
   ]
  },
  {
   "cell_type": "markdown",
   "metadata": {},
   "source": [
    "## Problem 5: Subtree of Another Tree\n",
    "\n",
    "https://leetcode.com/problems/subtree-of-another-tree/\n",
    "\n",
    "Given the roots of two binary trees `root` and `subRoot`, return `true` if there is a subtree of `root` with the same structure and node values of `subRoot` and `false` otherwise.\n",
    "\n",
    "A subtree of a binary tree `tree` is a tree that consists of a node in `tree` and all of this node's descendants. The tree `tree` could also be considered as a subtree of itself.\n",
    "\n",
    "Example 1:\n",
    "\n",
    "```\n",
    "Input: root = [1,2,3,4,5], subRoot = [2,4,5]\n",
    "Output: true\n",
    "```\n",
    "\n",
    "Example 2:\n",
    "\n",
    "```\n",
    "Input: root = [1,2,3,4,5,null,null,6], subRoot = [2,4,5]\n",
    "Output: false\n",
    "```\n",
    "\n",
    "Constraints:\n",
    "\n",
    "- `0 <= The number of nodes in both trees <= 100`.\n",
    "- `-100 <= root.val, subRoot.val <= 100`.\n"
   ]
  },
  {
   "cell_type": "code",
   "execution_count": 42,
   "metadata": {},
   "outputs": [],
   "source": [
    "def isSubtree(root: TreeNode | None, subRoot: TreeNode | None) -> bool:\n",
    "    # Empty subRoot is always a subtree\n",
    "    if not subRoot:\n",
    "        return True\n",
    "    # Empty root cannot contain subRoot\n",
    "    if not root:\n",
    "        return False\n",
    "\n",
    "    # Check if the current root and subRoot are the same\n",
    "    if isSameTree(root, subRoot):\n",
    "        return True\n",
    "\n",
    "    # Recursively check left and right subtrees\n",
    "    return isSubtree(root.left, subRoot) or isSubtree(root.right, subRoot)\n",
    "\n",
    "\n",
    "def isSameTree(p: TreeNode | None, q: TreeNode | None) -> bool:\n",
    "    \"\"\"Helper function to check if two trees are the same.\n",
    "    \"\"\"\n",
    "    # Both trees are empty return True\n",
    "    if not p and not q:\n",
    "        return True\n",
    "    # One tree is empty, the other is not return False\n",
    "    if (not p and q) or (p and not q):\n",
    "        return False\n",
    "    # Values are not equal return False\n",
    "    if p.val != q.val:\n",
    "        return False\n",
    "\n",
    "    # Recursively check left and right subtrees\n",
    "    return isSameTree(p.left, q.left) and isSameTree(p.right, q.right)"
   ]
  },
  {
   "cell_type": "code",
   "execution_count": 47,
   "metadata": {},
   "outputs": [],
   "source": [
    "root = [1,2,3,4,5]\n",
    "subRoot = [2,4,5]\n",
    "root = arrayToBinaryTree(root)\n",
    "subRoot = arrayToBinaryTree(subRoot)\n",
    "assert isSubtree(root, subRoot) is True\n",
    "\n",
    "\n",
    "root = [1,2,3,4,5,None,None,6]\n",
    "subRoot = [2,4,5]\n",
    "root = arrayToBinaryTree(root)\n",
    "subRoot = arrayToBinaryTree(subRoot)\n",
    "assert isSubtree(root, subRoot) is False\n",
    "\n",
    "root = [3,4,5,1,2]\n",
    "subRoot = [4,1,2]\n",
    "root = arrayToBinaryTree(root)\n",
    "subRoot = arrayToBinaryTree(subRoot)\n",
    "assert isSubtree(root, subRoot) is True\n",
    "\n",
    "root = [3,4,5,1,2,None,None,None,None,0]\n",
    "subRoot = [4,1,2]\n",
    "root = arrayToBinaryTree(root)\n",
    "subRoot = arrayToBinaryTree(subRoot)\n",
    "assert isSubtree(root, subRoot) is False"
   ]
  },
  {
   "cell_type": "code",
   "execution_count": null,
   "metadata": {},
   "outputs": [],
   "source": []
  }
 ],
 "metadata": {
  "kernelspec": {
   "display_name": ".venv",
   "language": "python",
   "name": "python3"
  },
  "language_info": {
   "codemirror_mode": {
    "name": "ipython",
    "version": 3
   },
   "file_extension": ".py",
   "mimetype": "text/x-python",
   "name": "python",
   "nbconvert_exporter": "python",
   "pygments_lexer": "ipython3",
   "version": "3.11.5"
  }
 },
 "nbformat": 4,
 "nbformat_minor": 2
}
