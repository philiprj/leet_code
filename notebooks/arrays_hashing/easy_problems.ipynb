{
 "cells": [
  {
   "cell_type": "markdown",
   "metadata": {},
   "source": [
    "# Arrays and Hashing: Easy Problems"
   ]
  },
  {
   "cell_type": "code",
   "execution_count": 2,
   "metadata": {},
   "outputs": [],
   "source": [
    "from typing import List"
   ]
  },
  {
   "cell_type": "markdown",
   "metadata": {},
   "source": [
    "## Problem 1: Contains Duplicate\n",
    "\n",
    "https://leetcode.com/problems/contains-duplicate/\n"
   ]
  },
  {
   "cell_type": "markdown",
   "metadata": {},
   "source": [
    "Contains Duplicate\n",
    "Given an integer array nums, return true if any value appears more than once in the array, otherwise return false.\n",
    "\n",
    "Example 1:\n",
    "\n",
    "```\n",
    "Input: nums = [1, 2, 3, 3]\n",
    "Output: true\n",
    "```\n",
    "\n",
    "Example 2:\n",
    "\n",
    "```\n",
    "Input: nums = [1, 2, 3, 4]\n",
    "Output: false\n",
    "```"
   ]
  },
  {
   "cell_type": "code",
   "execution_count": 3,
   "metadata": {},
   "outputs": [],
   "source": [
    "class Solution:\n",
    "    def hasDuplicate(self, nums: List[int]) -> bool:\n",
    "        # return len(set(nums)) < len(nums)\n",
    "        hash_set = set()\n",
    "        for num in nums:\n",
    "            if num in hash_set:\n",
    "                return True\n",
    "            else:\n",
    "                hash_set.add(num)\n",
    "        return False\n"
   ]
  },
  {
   "cell_type": "markdown",
   "metadata": {},
   "source": [
    "## Problem 2: Valid Anagram\n",
    "\n",
    "https://leetcode.com/problems/valid-anagram/"
   ]
  },
  {
   "cell_type": "markdown",
   "metadata": {},
   "source": [
    "Given two strings s and t, return true if t is an anagram of s, and false otherwise.\n",
    "\n",
    "Example 1:\n",
    "\n",
    "```\n",
    "Input: s = \"anagram\", t = \"nagaram\"\n",
    "Output: true\n",
    "```\n",
    "\n",
    "Example 2:\n",
    "\n",
    "```\n",
    "Input: s = \"rat\", t = \"car\"\n",
    "Output: false\n",
    "```\n",
    " \n",
    "\n",
    "Constraints:\n",
    "\n",
    "```\n",
    "1 <= s.length, t.length <= 5 * 104\n",
    "s and t consist of lowercase English letters.\n",
    "```\n",
    "\n",
    "Follow up: What if the inputs contain Unicode characters? How would you adapt your solution to such a case?"
   ]
  },
  {
   "cell_type": "code",
   "execution_count": 4,
   "metadata": {},
   "outputs": [],
   "source": [
    "class Solution:\n",
    "    def isAnagram(self, s: str, t: str) -> bool:\n",
    "        if len(s) != len(t):\n",
    "            return False\n",
    "        # Brute force: O(n log n)\n",
    "        # return sorted(s) == sorted(t)\n",
    "        \n",
    "        # Hash map: O(n+m), O(1)\n",
    "        # hash_map_s, hash_map_t = {}, {}\n",
    "        # for i in range(len(s)):\n",
    "        #     hash_map_s[s[i]] = 1 + hash_map_s.get(s[i], 0)\n",
    "        #     hash_map_t[t[i]] = 1 + hash_map_t.get(t[i], 0)\n",
    "        # return hash_map_s == hash_map_t\n",
    "        \n",
    "        # Hash Map Optimised: O(n+m), O(1)\n",
    "        count = [0] * 26    # 26 letters in the alphabet\n",
    "        for i in range(len(s)):\n",
    "            # ord() gets the ASCII value of the character\n",
    "            # Subtracting the ASCII value of 'a' gives a number between 0 and 25\n",
    "            # This is the index of the letter in the count array\n",
    "            count[ord(s[i]) - ord('a')] += 1\n",
    "            count[ord(t[i]) - ord('a')] -= 1\n",
    "\n",
    "        # If the strings are anagrams, the count array will be all zeros\n",
    "        for val in count:\n",
    "            if val != 0:\n",
    "                return False\n",
    "        return True"
   ]
  },
  {
   "cell_type": "markdown",
   "metadata": {},
   "source": [
    "## Problem 3: Two Sum\n",
    "\n",
    "https://leetcode.com/problems/two-sum/"
   ]
  },
  {
   "cell_type": "markdown",
   "metadata": {},
   "source": [
    "Given an array of integers nums and an integer target, return the indices i and j such that nums[i] + nums[j] == target and i != j.\n",
    "\n",
    "You may assume that every input has exactly one pair of indices i and j that satisfy the condition.\n",
    "\n",
    "Return the answer with the smaller index first.\n",
    "\n",
    "Example 1:\n",
    "\n",
    "```\n",
    "Input: \n",
    "nums = [3,4,5,6], target = 7\n",
    "Output: [0,1]\n",
    "\n",
    "```\n",
    "Explanation: nums[0] + nums[1] == 7, so we return [0, 1].\n",
    "\n",
    "Example 2:\n",
    "\n",
    "```\n",
    "Input: nums = [4,5,6], target = 10\n",
    "Output: [0,2]\n",
    "```\n",
    "\n",
    "Example 3:\n",
    "\n",
    "```\n",
    "Input: nums = [5,5], target = 10\n",
    "Output: [0,1]\n",
    "```\n",
    "\n",
    "Constraints:\n",
    "```\n",
    "2 <= nums.length <= 1000\n",
    "-10,000,000 <= nums[i] <= 10,000,000\n",
    "-10,000,000 <= target <= 10,000,000\n",
    "```"
   ]
  },
  {
   "cell_type": "code",
   "execution_count": null,
   "metadata": {},
   "outputs": [],
   "source": [
    "class Solution:\n",
    "    def twoSum(self, nums: List[int], target: int) -> List[int]:\n",
    "        # Brute force: O(n^2)\n",
    "        # for i, num1 in enumerate(nums):\n",
    "        #     for j, num2 in enumerate(nums[i+1:]):\n",
    "        #         if num1 + num2 == target:\n",
    "        #             return [i, j]\n",
    "        # return []\n",
    "    \n",
    "        # Hash map: O(n), O(n)\n",
    "        # Key: number, Value: index, we can check if the difference we neeed is in the hash map\n",
    "        hash_map = {}\n",
    "        for i, num in enumerate(nums):\n",
    "            difference = target - num\n",
    "            if difference in hash_map:\n",
    "                return [hash_map[difference], i]\n",
    "            hash_map[num] = i\n",
    "        return []"
   ]
  }
 ],
 "metadata": {
  "kernelspec": {
   "display_name": "Python 3",
   "language": "python",
   "name": "python3"
  },
  "language_info": {
   "codemirror_mode": {
    "name": "ipython",
    "version": 3
   },
   "file_extension": ".py",
   "mimetype": "text/x-python",
   "name": "python",
   "nbconvert_exporter": "python",
   "pygments_lexer": "ipython3",
   "version": "3.13.0"
  }
 },
 "nbformat": 4,
 "nbformat_minor": 2
}
