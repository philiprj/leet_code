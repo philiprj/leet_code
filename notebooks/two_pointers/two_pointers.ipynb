{
 "cells": [
  {
   "cell_type": "code",
   "execution_count": 1,
   "metadata": {},
   "outputs": [],
   "source": [
    "from typing import List"
   ]
  },
  {
   "cell_type": "markdown",
   "metadata": {},
   "source": [
    "# Two Pointers: Easy Problems"
   ]
  },
  {
   "cell_type": "markdown",
   "metadata": {},
   "source": [
    "## Problem 1: Valid Palindrome\n",
    "\n",
    "https://leetcode.com/problems/valid-palindrome/\n",
    "\n",
    "Given a string `s`, return true if it is a palindrome, otherwise return false.\n",
    "\n",
    "A palindrome is a string that reads the same forward and backward. It is also case-insensitive and ignores all non-alphanumeric characters.\n",
    "\n",
    "Example 1:\n",
    "\n",
    "```\n",
    "Input: s = \"Was it a car or a cat I saw?\"\n",
    "Output: true\n",
    "```\n",
    "\n",
    "Explanation: After considering only alphanumerical characters we have \"wasitacaroracatisaw\", which is a palindrome.\n",
    "\n",
    "Example 2:\n",
    "\n",
    "```\n",
    "Input: s = \"tab a cat\"\n",
    "Output: false\n",
    "```\n",
    "\n",
    "Explanation: \"tabacat\" is not a palindrome.\n",
    "\n",
    "Constraints:\n",
    "\n",
    "```\n",
    "1 <= s.length <= 1000\n",
    "s is made up of only printable ASCII characters.\n",
    "```"
   ]
  },
  {
   "cell_type": "code",
   "execution_count": 2,
   "metadata": {},
   "outputs": [],
   "source": [
    "class Solution:\n",
    "    def isPalindrome(self, s: str) -> bool:\n",
    "        start, end = 0, len(s) - 1\n",
    "\n",
    "        while start < end:\n",
    "            # Skip spaces or other special chars\n",
    "            while start < end and not s[start].isalnum():\n",
    "                start += 1\n",
    "            while start < end and not s[end].isalnum():\n",
    "                end -= 1\n",
    "            \n",
    "            if s[start].lower() != s[end].lower():\n",
    "                return False\n",
    "            start += 1\n",
    "            end -= 1\n",
    "        return True\n",
    "\n",
    "    # def alpha_numeric(self, c):\n",
    "    #     \"\"\"Return bool for if char is alphanumeric character\"\"\"\n",
    "    #     return (ord('A') <= ord(c) <= ord('Z') or \n",
    "    #             ord('a') <= ord(c) <= ord('z') or \n",
    "    #             ord('0') <= ord(c) <= ord('9'))"
   ]
  },
  {
   "cell_type": "markdown",
   "metadata": {},
   "source": [
    "# Two Pointers: Medium Problems"
   ]
  },
  {
   "cell_type": "markdown",
   "metadata": {},
   "source": [
    "## Problem 1: Two Integer Sum II\n",
    "\n",
    "https://leetcode.com/problems/two-sum-ii-input-array-is-sorted/\n",
    "\n",
    "Given an array of integers numbers that is sorted in non-decreasing order.\n",
    "\n",
    "Return the indices (1-indexed) of two numbers, `[index1, index2]`, such that they add up to a given target number `target` and `index1 < index2`. Note that `index1` and `index2` cannot be equal, therefore you may not use the same element twice.\n",
    "\n",
    "There will always be exactly one valid solution.\n",
    "\n",
    "Your solution must use `O(1)` `O(1)` additional space.\n",
    "\n",
    "Example 1:\n",
    "```\n",
    "Input: numbers = [1,2,3,4], target = 3\n",
    "Output: [1,2]\n",
    "```\n",
    "\n",
    "Explanation:\n",
    "The sum of 1 and 2 is 3. Since we are assuming a 1-indexed array, `index1 = 1`, `index2 = 2`. We return `[1, 2]`.\n",
    "\n",
    "Constraints:\n",
    "\n",
    "```\n",
    "2 <= numbers.length <= 1000\n",
    "-1000 <= numbers[i] <= 1000\n",
    "-1000 <= target <= 1000\n",
    "```"
   ]
  },
  {
   "cell_type": "code",
   "execution_count": 10,
   "metadata": {},
   "outputs": [],
   "source": [
    "class Solution:\n",
    "    def twoSum(self, numbers: List[int], target: int) -> List[int]:\n",
    "        i, j = 0, len(numbers) - 1\n",
    "\n",
    "        while i < j:\n",
    "            nums_sum = numbers[i] + numbers[j]\n",
    "            if nums_sum == target:\n",
    "                return [i + 1, j + 1]\n",
    "            elif nums_sum < target:\n",
    "                i += 1\n",
    "            else:\n",
    "                j -= 1\n",
    "        return []\n"
   ]
  },
  {
   "cell_type": "code",
   "execution_count": 15,
   "metadata": {},
   "outputs": [
    {
     "data": {
      "text/plain": [
       "[1, 2]"
      ]
     },
     "execution_count": 15,
     "metadata": {},
     "output_type": "execute_result"
    }
   ],
   "source": [
    "numbers = [1,2,3,4]\n",
    "target = 3\n",
    "\n",
    "Solution().twoSum(numbers, target)"
   ]
  },
  {
   "cell_type": "markdown",
   "metadata": {},
   "source": [
    "## Problem 2: 3Sum\n",
    "\n",
    "https://leetcode.com/problems/3sum/\n",
    "\n",
    "Given an integer array `nums`, return all the triplets `[nums[i], nums[j], nums[k]]` where `nums[i] + nums[j] + nums[k] == 0`, and the indices `i`, `j` and `k` are all distinct.\n",
    "\n",
    "The output should not contain any duplicate triplets. You may return the output and the triplets in any order.\n",
    "\n",
    "Example 1:\n",
    "\n",
    "```\n",
    "Input: nums = [-1,0,1,2,-1,-4]\n",
    "Output: [[-1,-1,2],[-1,0,1]]\n",
    "```\n",
    "\n",
    "Explanation:\n",
    "\n",
    "```\n",
    "nums[0] + nums[1] + nums[2] = (-1) + 0 + 1 = 0.\n",
    "nums[1] + nums[2] + nums[4] = 0 + 1 + (-1) = 0.\n",
    "nums[0] + nums[3] + nums[4] = (-1) + 2 + (-1) = 0.\n",
    "``` \n",
    "\n",
    "The distinct triplets are `[-1,0,1]` and `[-1,-1,2]`.\n",
    "\n",
    "Example 2:\n",
    "\n",
    "```\n",
    "Input: nums = [0,1,1]\n",
    "Output: []\n",
    "```\n",
    "\n",
    "Explanation: The only possible triplet does not sum up to 0.\n",
    "\n",
    "Example 3:\n",
    "\n",
    "```\n",
    "Input: nums = [0,0,0]\n",
    "Output: [[0,0,0]]\n",
    "```\n",
    "\n",
    "Explanation: The only possible triplet sums up to 0.\n",
    "\n",
    "Constraints:\n",
    "\n",
    "```\n",
    "3 <= nums.length <= 1000\n",
    "-10^5 <= nums[i] <= 10^5\n",
    "```\n"
   ]
  },
  {
   "cell_type": "code",
   "execution_count": 15,
   "metadata": {},
   "outputs": [],
   "source": [
    "class Solution:\n",
    "    def threeSum(self, nums: List[int]) -> List[List[int]]:\n",
    "        nums.sort()\n",
    "        triplets = []\n",
    "\n",
    "        for i, a in enumerate(nums):\n",
    "            # If the current number is greater than 0, we can't find a valid triplet from sorted list\n",
    "            if a > 0:\n",
    "                break\n",
    "\n",
    "            # Skip duplicates\n",
    "            if i > 0 and a == nums[i - 1]:\n",
    "                continue\n",
    "\n",
    "            # Two pointers\n",
    "            l, r = i + 1, len(nums) - 1\n",
    "            while l < r:\n",
    "                nums_sum = a + nums[l] + nums[r]\n",
    "                if nums_sum > 0:\n",
    "                    r -= 1\n",
    "                elif nums_sum < 0:\n",
    "                    l += 1\n",
    "                else:\n",
    "                    triplets.append([a, nums[l], nums[r]])\n",
    "                    l += 1\n",
    "                    # Skip duplicates, don't need to check for r because conditions above ensure we've found a valid triplet\n",
    "                    while nums[l] == nums[l - 1] and l < r:\n",
    "                        l += 1\n",
    "        return triplets\n"
   ]
  },
  {
   "cell_type": "code",
   "execution_count": 14,
   "metadata": {},
   "outputs": [
    {
     "data": {
      "text/plain": [
       "[[-1, -1, 2], [-1, 0, 1]]"
      ]
     },
     "execution_count": 14,
     "metadata": {},
     "output_type": "execute_result"
    }
   ],
   "source": [
    "nums = [-1,0,1,2,-1,-4]\n",
    "\n",
    "Solution().threeSum(nums)\n"
   ]
  },
  {
   "cell_type": "markdown",
   "metadata": {},
   "source": [
    "## Problem 3: Container With Most Water\n",
    "\n",
    "https://leetcode.com/problems/container-with-most-water/\n",
    "\n",
    "You are given an integer array heights where `heights[i]` represents the height of the `i` bar.\n",
    "\n",
    "You may choose any two bars to form a container. Return the maximum amount of water a container can store.\n",
    "\n",
    "Example 1:\n",
    "\n",
    "```\n",
    "Input: height = [1,7,2,5,4,7,3,6]\n",
    "Output: 36\n",
    "```\n",
    "\n",
    "Example 2:\n",
    "\n",
    "```\n",
    "Input: height = [2,2,2]\n",
    "Output: 4\n",
    "```\n",
    "\n",
    "Constraints:\n",
    "\n",
    "```\n",
    "2 <= height.length <= 1000\n",
    "0 <= height[i] <= 1000\n",
    "```"
   ]
  },
  {
   "cell_type": "code",
   "execution_count": 17,
   "metadata": {},
   "outputs": [],
   "source": [
    "class Solution:\n",
    "    def maxArea(self, heights: List[int]) -> int:\n",
    "        max_area = 0\n",
    "        l, r = 0, len(heights) - 1\n",
    "\n",
    "        while l < r:\n",
    "            area = (r - l) * min(heights[l], heights[r])\n",
    "            max_area = max(max_area, area)\n",
    "            if heights[l] > heights[r]:\n",
    "                r -= 1\n",
    "            else:\n",
    "                l += 1\n",
    "        return max_area"
   ]
  },
  {
   "cell_type": "code",
   "execution_count": 18,
   "metadata": {},
   "outputs": [
    {
     "data": {
      "text/plain": [
       "36"
      ]
     },
     "execution_count": 18,
     "metadata": {},
     "output_type": "execute_result"
    }
   ],
   "source": [
    "height = [1,7,2,5,4,7,3,6]\n",
    "\n",
    "Solution().maxArea(height)"
   ]
  },
  {
   "cell_type": "markdown",
   "metadata": {},
   "source": [
    "# Two Pointers: Hard Problems"
   ]
  },
  {
   "cell_type": "markdown",
   "metadata": {},
   "source": [
    "Problem 1: Trapping Rain Water\n",
    "\n",
    "https://leetcode.com/problems/trapping-rain-water/\n",
    "\n",
    "\n",
    "You are given an array non-negative integers height which represent an elevation map. Each value `height[i]` represents the height of a bar, which has a width of `1`.\n",
    "\n",
    "Return the maximum area of water that can be trapped between the bars.\n",
    "\n",
    "Example 1:\n",
    "\n",
    "```\n",
    "Input: height = [0,2,0,3,1,0,1,3,2,1]\n",
    "Output: 9\n",
    "```\n",
    "\n",
    "Constraints:\n",
    "\n",
    "```\n",
    "1 <= height.length <= 1000\n",
    "0 <= height[i] <= 1000\n",
    "```"
   ]
  },
  {
   "cell_type": "code",
   "execution_count": 23,
   "metadata": {},
   "outputs": [],
   "source": [
    "class Solution:\n",
    "    def trap(self, height: List[int]) -> int:\n",
    "        if not height:\n",
    "            return 0\n",
    "\n",
    "        # Two pointers\n",
    "        l, r = 0, len(height) - 1\n",
    "        # Max heights\n",
    "        left_max, right_max = height[l], height[r]\n",
    "        res = 0\n",
    "        \n",
    "        # Move pointers\n",
    "        while l < r:\n",
    "            # If left max is less than right max, move left pointer\n",
    "            if left_max < right_max:\n",
    "                l += 1\n",
    "                left_max = max(left_max, height[l])\n",
    "                # Do not need to check negative because we know left_max >= height[l]\n",
    "                res += left_max - height[l]\n",
    "            # If right max is less than left max, move right pointer\n",
    "            else:\n",
    "                r -= 1\n",
    "                right_max = max(right_max, height[r])\n",
    "                # Do not need to check negative because we know right_max >= height[r]\n",
    "                res += right_max - height[r]\n",
    "        return res"
   ]
  },
  {
   "cell_type": "code",
   "execution_count": 24,
   "metadata": {},
   "outputs": [
    {
     "data": {
      "text/plain": [
       "9"
      ]
     },
     "execution_count": 24,
     "metadata": {},
     "output_type": "execute_result"
    }
   ],
   "source": [
    "height = [0,2,0,3,1,0,1,3,2,1]\n",
    "\n",
    "Solution().trap(height)"
   ]
  }
 ],
 "metadata": {
  "kernelspec": {
   "display_name": ".venv",
   "language": "python",
   "name": "python3"
  },
  "language_info": {
   "codemirror_mode": {
    "name": "ipython",
    "version": 3
   },
   "file_extension": ".py",
   "mimetype": "text/x-python",
   "name": "python",
   "nbconvert_exporter": "python",
   "pygments_lexer": "ipython3",
   "version": "3.11.5"
  }
 },
 "nbformat": 4,
 "nbformat_minor": 2
}
