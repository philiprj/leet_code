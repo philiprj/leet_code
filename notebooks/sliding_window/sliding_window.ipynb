{
 "cells": [
  {
   "cell_type": "markdown",
   "metadata": {},
   "source": [
    "# Sliding Window: Easy Problems"
   ]
  },
  {
   "cell_type": "code",
   "execution_count": 2,
   "metadata": {},
   "outputs": [],
   "source": [
    "from typing import List"
   ]
  },
  {
   "cell_type": "markdown",
   "metadata": {},
   "source": [
    "## Problem 1: Best Time to Buy and Sell Stock\n",
    "\n",
    "https://leetcode.com/problems/best-time-to-buy-and-sell-stock/\n",
    "\n",
    "You are given an integer array `prices` where `prices[i]` is the price of NeetCoin on the ith day.\n",
    "\n",
    "You may choose a single day to buy one NeetCoin and choose a different day in the future to sell it.\n",
    "\n",
    "Return the maximum profit you can achieve. You may choose to not make any transactions, in which case the profit would be `0`.\n",
    "\n",
    "Example 1:\n",
    "\n",
    "```\n",
    "Input: prices = [10,1,5,6,7,1]\n",
    "Output: 6\n",
    "```\n",
    "\n",
    "Explanation: Buy `prices[1]` and sell `prices[4]`, profit = `7 - 1 = 6`.\n",
    "\n",
    "\n",
    "Example 2:\n",
    "\n",
    "```\n",
    "Input: prices = [10,8,7,5,2]\n",
    "Output: 0\n",
    "```\n",
    "\n",
    "Explanation: No profitable transactions can be made, thus the max profit is `0`.\n",
    "\n",
    "Constraints:\n",
    "\n",
    "- `1 <= prices.length <= 100`\n",
    "- `0 <= prices[i] <= 100`\n"
   ]
  },
  {
   "cell_type": "code",
   "execution_count": 3,
   "metadata": {},
   "outputs": [],
   "source": [
    "def maxProfit(prices: List[int]) -> int:\n",
    "    i, j = 0, 1\n",
    "    max_profit = 0\n",
    "\n",
    "    while j < len(prices):\n",
    "        # If the price is higher today than it was yesterday, we should sell today as the profit would be higher\n",
    "        if prices[i] < prices[j]:\n",
    "            profit = prices[j] - prices[i]\n",
    "            max_profit = max(max_profit, profit)\n",
    "        # If the price is lower today than it was yesterday, we should buy today as the profit would be higher\n",
    "        else:\n",
    "            i = j\n",
    "        # Move to the next day\n",
    "        j += 1\n",
    "\n",
    "    return max_profit"
   ]
  },
  {
   "cell_type": "code",
   "execution_count": 4,
   "metadata": {},
   "outputs": [
    {
     "data": {
      "text/plain": [
       "6"
      ]
     },
     "execution_count": 4,
     "metadata": {},
     "output_type": "execute_result"
    }
   ],
   "source": [
    "prices = [10,1,5,6,7,1]\n",
    "\n",
    "maxProfit(prices)"
   ]
  },
  {
   "cell_type": "code",
   "execution_count": 5,
   "metadata": {},
   "outputs": [
    {
     "data": {
      "text/plain": [
       "0"
      ]
     },
     "execution_count": 5,
     "metadata": {},
     "output_type": "execute_result"
    }
   ],
   "source": [
    "prices = [10,8,7,5,2]\n",
    "\n",
    "maxProfit(prices)"
   ]
  },
  {
   "cell_type": "markdown",
   "metadata": {},
   "source": [
    "# Sliding Window: Medium Problems"
   ]
  },
  {
   "cell_type": "markdown",
   "metadata": {},
   "source": [
    "## Problem 1: Longest Substring Without Repeating Characters\n",
    "\n",
    "https://leetcode.com/problems/longest-substring-without-repeating-characters/\n",
    "\n",
    "Given a string `s`, find the length of the longest substring without repeating characters. A substring is a contiguous sequence of characters within a string.\n",
    "\n",
    "Example 1:\n",
    "\n",
    "```\n",
    "Input: s = \"zxyzxyz\"\n",
    "Output: 3\n",
    "```\n",
    "\n",
    "Explanation: The string \"xyz\" is the longest without duplicate characters.\n",
    "\n",
    "```\n",
    "Input: s = \"xxxx\"\n",
    "Output: 1\n",
    "```\n",
    "\n",
    "Constraints:\n",
    "\n",
    "\n",
    "- `0 <= s.length <= 1000`\n",
    "- `s` may consist of printable ASCII characters.\n"
   ]
  },
  {
   "cell_type": "code",
   "execution_count": 21,
   "metadata": {},
   "outputs": [],
   "source": [
    "def lengthOfLongestSubstring(s: str) -> int:\n",
    "    \"\"\"O(n), O(m) time complexity where m is the number of unique characters in the string\"\"\"\n",
    "    seen = set(s[0])\n",
    "    i, j = 0, 1\n",
    "    result = 0\n",
    "\n",
    "    while j < len(s):\n",
    "        if s[j] not in seen:\n",
    "            seen.add(s[j])\n",
    "            j += 1\n",
    "        else:\n",
    "            result = max(result, len(seen))\n",
    "            seen = set(s[j])\n",
    "            i = j\n",
    "            j += 1\n",
    "\n",
    "    return result\n",
    "\n",
    "\n",
    "def lengthOfLongestSubstring2(s: str) -> int:\n",
    "    \"\"\"O(n) time complexity, O(m) space complexity where m is the number of unique characters in the string\"\"\"\n",
    "    seen = {}\n",
    "    l = 0\n",
    "    result = 0\n",
    "\n",
    "    for r in range(len(s)):\n",
    "        # If the character is in the seen set, we need to move the left pointer to the right until the character is no longer in the seen set\n",
    "        while s[r] in seen:\n",
    "            seen.pop(s[l])\n",
    "            l += 1\n",
    "        seen.add(s[r])\n",
    "        result = max(result, r - l + 1)\n",
    "\n",
    "    return result\n"
   ]
  },
  {
   "cell_type": "code",
   "execution_count": 22,
   "metadata": {},
   "outputs": [
    {
     "data": {
      "text/plain": [
       "3"
      ]
     },
     "execution_count": 22,
     "metadata": {},
     "output_type": "execute_result"
    }
   ],
   "source": [
    "s = \"zxyzxyz\"\n",
    "lengthOfLongestSubstring(s)\n",
    "s = \"xxxx\"\n",
    "lengthOfLongestSubstring(s)\n",
    "s = \"abcabcbb\"\n",
    "lengthOfLongestSubstring(s)\n",
    "s = \"pwwkew\"\n",
    "lengthOfLongestSubstring(s)"
   ]
  },
  {
   "cell_type": "markdown",
   "metadata": {},
   "source": [
    "## Problem 2: Longest Repeating Character Replacement\n",
    "\n",
    "https://leetcode.com/problems/longest-repeating-character-replacement/\n",
    "\n",
    "You are given a string `s` consisting of only uppercase english characters and an integer `k`. You can choose up to `k` characters of the string and replace them with any other uppercase English character.\n",
    "\n",
    "After performing at most `k` replacements, return the length of the longest substring which contains only one distinct character.\n",
    "\n",
    "Example 1:\n",
    "\n",
    "```\n",
    "Input: s = \"XYYX\", k = 2\n",
    "Output: 4\n",
    "```\n",
    "\n",
    "Explanation: Either replace the 'X's with 'Y's, or replace the 'Y's with 'X's.\n",
    "\n",
    "Example 2:\n",
    "\n",
    "```\n",
    "Input: s = \"AAABABB\", k = 1\n",
    "Output: 5\n",
    "```\n",
    "\n",
    "Constraints:\n",
    "\n",
    "- `1 <= s.length <= 1000`\n",
    "- `0 <= k <= s.length`\n"
   ]
  },
  {
   "cell_type": "code",
   "execution_count": 26,
   "metadata": {},
   "outputs": [],
   "source": [
    "def characterReplacement(s: str, k: int) -> int:\n",
    "    count = {}\n",
    "    result = 0\n",
    "    l = 0\n",
    "\n",
    "    for r in range(len(s)):\n",
    "        count[s[r]] = 1 + count.get(s[r], 0)\n",
    "        # If the number of replacements needed is greater than k, we need to move the left pointer to the right\n",
    "        while (r - l + 1) - max(count.values()) > k:\n",
    "            count[s[l]] -= 1\n",
    "            l += 1\n",
    "\n",
    "        result = max(result, r - l + 1)\n",
    "\n",
    "\n",
    "    return result\n",
    "\n",
    "def characterReplacement_optimal(s: str, k: int) -> int:\n",
    "    count = {}\n",
    "    result = 0\n",
    "    l = 0\n",
    "    maxf = 0\n",
    "\n",
    "    for r in range(len(s)):\n",
    "        count[s[r]] = 1 + count.get(s[r], 0)\n",
    "        maxf = max(maxf, count[s[r]])\n",
    "        # If the number of replacements needed is greater than k, we need to move the left pointer to the right\n",
    "        while (r - l + 1) - maxf > k:\n",
    "            count[s[l]] -= 1\n",
    "            l += 1\n",
    "\n",
    "        result = max(result, r - l + 1)\n",
    "\n",
    "\n",
    "    return result"
   ]
  },
  {
   "cell_type": "code",
   "execution_count": 27,
   "metadata": {},
   "outputs": [
    {
     "data": {
      "text/plain": [
       "4"
      ]
     },
     "execution_count": 27,
     "metadata": {},
     "output_type": "execute_result"
    }
   ],
   "source": [
    "s = \"XYYX\"\n",
    "k = 2\n",
    "characterReplacement(s, k)"
   ]
  },
  {
   "cell_type": "code",
   "execution_count": 28,
   "metadata": {},
   "outputs": [
    {
     "data": {
      "text/plain": [
       "5"
      ]
     },
     "execution_count": 28,
     "metadata": {},
     "output_type": "execute_result"
    }
   ],
   "source": [
    "s = \"AAABABB\"\n",
    "k = 1\n",
    "characterReplacement(s, k)"
   ]
  },
  {
   "cell_type": "markdown",
   "metadata": {},
   "source": [
    "## Problem 3: Permutation in String\n",
    "\n",
    "https://leetcode.com/problems/permutation-in-string/\n",
    "\n",
    "You are given two strings `s1` and `s2`.\n",
    "\n",
    "Return true if `s2` contains a permutation of `s1`, or false otherwise. That means if a permutation of `s1` exists as a substring of `s2`, then return true.\n",
    "\n",
    "Both strings only contain lowercase letters.\n",
    "\n",
    "Example 1:\n",
    "\n",
    "```\n",
    "Input: s1 = \"abc\", s2 = \"lecabee\"\n",
    "Output: true\n",
    "```\n",
    "\n",
    "Explanation: The substring \"cab\" is a permutation of \"abc\" and is present in \"lecabee\".\n",
    "\n",
    "Example 2:\n",
    "\n",
    "```\n",
    "Input: s1 = \"abc\", s2 = \"lecaabee\"\n",
    "Output: false\n",
    "```\n",
    "\n",
    "Constraints:\n",
    "\n",
    "- `1 <= s1.length, s2.length <= 1000`\n"
   ]
  },
  {
   "cell_type": "code",
   "execution_count": 42,
   "metadata": {},
   "outputs": [],
   "source": [
    "def checkInclusion(s1: str, s2: str) -> bool:\n",
    "    if len(s1) > len(s2):\n",
    "        return False\n",
    "\n",
    "    # Arrays to store the frequency of each character in s1 and s2 window\n",
    "    cache1 = [0] * 26\n",
    "    cache2 = [0] * 26\n",
    "\n",
    "    # Populate the arrays with the frequency of each character in the first window\n",
    "    for i in range(len(s1)):\n",
    "        # ord(s1[i]) - ord('a') gives the index of the character in the range [0, 25] based on its ASCII value.\n",
    "        cache1[ord(s1[i]) - ord('a')] += 1\n",
    "        cache2[ord(s2[i]) - ord('a')] += 1\n",
    "\n",
    "    if cache1 == cache2:\n",
    "        return True\n",
    "    \n",
    "    # Slide the window across s2\n",
    "    for i in range(len(s1), len(s2)):\n",
    "        # Add the new character to the cache\n",
    "        cache2[ord(s2[i]) - ord('a')] += 1\n",
    "        # Remove the oldest character from the cache\n",
    "        cache2[ord(s2[i - len(s1)]) - ord('a')] -= 1\n",
    "\n",
    "        if cache1 == cache2:\n",
    "            return True\n",
    "\n",
    "    return False"
   ]
  },
  {
   "cell_type": "code",
   "execution_count": 43,
   "metadata": {},
   "outputs": [
    {
     "data": {
      "text/plain": [
       "True"
      ]
     },
     "execution_count": 43,
     "metadata": {},
     "output_type": "execute_result"
    }
   ],
   "source": [
    "s1 = \"abc\"\n",
    "s2 = \"lecabee\"\n",
    "checkInclusion(s1, s2)"
   ]
  },
  {
   "cell_type": "code",
   "execution_count": 44,
   "metadata": {},
   "outputs": [
    {
     "data": {
      "text/plain": [
       "False"
      ]
     },
     "execution_count": 44,
     "metadata": {},
     "output_type": "execute_result"
    }
   ],
   "source": [
    "s1 = \"abc\"\n",
    "s2 = \"lecaabee\"\n",
    "checkInclusion(s1, s2)"
   ]
  },
  {
   "cell_type": "markdown",
   "metadata": {},
   "source": [
    "# Sliding Window: Hard Problems"
   ]
  },
  {
   "cell_type": "markdown",
   "metadata": {},
   "source": [
    "## Problem 1: Minimum Window Substring\n",
    "\n",
    "https://leetcode.com/problems/minimum-window-substring/\n",
    "\n",
    "Given two strings `s` and `t`, return the shortest substring of `s` such that every character in `t`, including duplicates, is present in the substring. If such a substring does not exist, return an empty string \"\".\n",
    "\n",
    "You may assume that the correct output is always unique.\n",
    "\n",
    "Example 1:\n",
    "\n",
    "```\n",
    "Input: s = \"OUZODYXAZV\", t = \"XYZ\"\n",
    "Output: \"YXAZ\"\n",
    "```\n",
    "\n",
    "Explanation: \"YXAZ\" is the shortest substring that includes \"X\", \"Y\", and \"Z\" from string `t`.\n",
    "\n",
    "Example 2:\n",
    "\n",
    "```\n",
    "Input: s = \"xyz\", t = \"xyz\"\n",
    "Output: \"xyz\"\n",
    "```\n",
    "\n",
    "Example 3:\n",
    "\n",
    "```\n",
    "Input: s = \"x\", t = \"xy\"\n",
    "Output: \"\"\n",
    "```\n",
    "\n",
    "Constraints:\n",
    "\n",
    "- `1 <= s.length <= 1000`\n",
    "- `1 <= t.length <= 1000`\n",
    "- `s` and `t` consist of uppercase and lowercase English letters.\n"
   ]
  },
  {
   "cell_type": "code",
   "execution_count": 54,
   "metadata": {},
   "outputs": [
    {
     "data": {
      "text/plain": [
       "True"
      ]
     },
     "execution_count": 54,
     "metadata": {},
     "output_type": "execute_result"
    }
   ],
   "source": [
    "a = set(\"abc\")\n",
    "b = set(\"dabc\")\n",
    "a.issubset(b)\n"
   ]
  },
  {
   "cell_type": "code",
   "execution_count": 53,
   "metadata": {},
   "outputs": [
    {
     "data": {
      "text/plain": [
       "''"
      ]
     },
     "execution_count": 53,
     "metadata": {},
     "output_type": "execute_result"
    }
   ],
   "source": [
    "\"abc\"[0:0]"
   ]
  },
  {
   "cell_type": "code",
   "execution_count": 90,
   "metadata": {},
   "outputs": [],
   "source": [
    "def minWindow(s: str, t: str) -> str:\n",
    "    \"\"\"Solution 1 is good but is subset operation is inefficient\"\"\"\n",
    "    if len(t) > len(s):\n",
    "        return \"\"\n",
    "    elif t == \"\":\n",
    "        return t\n",
    "    \n",
    "    res = \"\"\n",
    "    t_set = set(t)\n",
    "\n",
    "    i, j = 0, 1\n",
    "\n",
    "    while j <= len(s):\n",
    "        # The time complexity of the issubset check is O(len(t) (j-i)) in each iteration, which is inefficient.\n",
    "        while t_set.issubset(set(s[i:j])):\n",
    "            res = s[i:j]\n",
    "            i += 1\n",
    "        j += 1\n",
    "\n",
    "    return res\n",
    "\n",
    "def minWindow_optimal(s: str, t: str) -> str:\n",
    "    \"\"\"Solution 2 is optimal, O(n) time complexity, O(m) space complexity where m is the number of unique characters in t\"\"\"\n",
    "    if len(t) > len(s):\n",
    "        return \"\"\n",
    "    elif t == \"\":\n",
    "        return t\n",
    "\n",
    "    count_t, count_window = {}, {}\n",
    "\n",
    "    # Populate the count_t dictionary with the frequency of each character in t\n",
    "    for c in t:\n",
    "        count_t[c] = 1 + count_t.get(c, 0)\n",
    "\n",
    "    # We need to make have == need to find a valid window\n",
    "    have, need = 0, len(count_t)\n",
    "\n",
    "    res, res_len = \"\", float(\"infinity\")\n",
    "    l = 0\n",
    "    for r in range(len(s)):\n",
    "        c = s[r]\n",
    "        count_window[c] = 1 + count_window.get(c, 0)\n",
    "\n",
    "        # If the character is in count_t and the frequency of the character in the window is the same as in count_t, we have found a valid character\n",
    "        if c in count_t and count_window[c] == count_t[c]:\n",
    "            have += 1\n",
    "        \n",
    "        # If we have found a valid window, we need to shrink the window from the left\n",
    "        while have == need:\n",
    "            # If the current window is shorter than the previous shortest window, update the result\n",
    "            if (r - l + 1) < res_len:\n",
    "                res = s[l:r+1]\n",
    "                res_len = r - l + 1\n",
    "            \n",
    "            # Move the left pointer to the right and update the count_window and have\n",
    "            count_window[s[l]] -= 1\n",
    "            if s[l] in count_t and count_window[s[l]] < count_t[s[l]]:\n",
    "                have -= 1\n",
    "            l += 1\n",
    "\n",
    "    return res"
   ]
  },
  {
   "cell_type": "code",
   "execution_count": 91,
   "metadata": {},
   "outputs": [
    {
     "data": {
      "text/plain": [
       "'a'"
      ]
     },
     "execution_count": 91,
     "metadata": {},
     "output_type": "execute_result"
    }
   ],
   "source": [
    "s = \"OUZODYXAZV\"\n",
    "t = \"XYZ\"\n",
    "minWindow(s, t)\n",
    "s = \"xyz\"\n",
    "t = \"xyz\"\n",
    "minWindow(s, t)\n",
    "s = \"x\"\n",
    "t = \"xy\"\n",
    "minWindow(s, t)\n",
    "s = \"ADOBECODEBANC\"\n",
    "t = \"ABC\"\n",
    "minWindow(s, t)\n",
    "s = \"a\"\n",
    "t = \"a\"\n",
    "minWindow(s, t)"
   ]
  },
  {
   "cell_type": "markdown",
   "metadata": {},
   "source": [
    "## Problem 2: Sliding Window Maximum\n",
    "\n",
    "https://leetcode.com/problems/sliding-window-maximum/\n",
    "\n",
    "You are given an array of integers `nums` and an integer `k`. There is a sliding window of size `k` that starts at the left edge of the array. The window slides one position to the right until it reaches the right edge of the array.\n",
    "\n",
    "Return a list that contains the maximum element in the window at each step.\n",
    "\n",
    "Example 1:\n",
    "\n",
    "```\n",
    "Input: nums = [1,2,1,0,4,2,6], k = 3\n",
    "Output: [2,2,4,4,6]\n",
    "```\n",
    "\n",
    "Constraints:\n",
    "\n",
    "- `1 <= nums.length <= 1000`\n",
    "- `-1000 <= nums[i] <= 1000`\n",
    "- `1 <= k <= nums.length`\n"
   ]
  },
  {
   "cell_type": "code",
   "execution_count": 108,
   "metadata": {},
   "outputs": [],
   "source": [
    "from collections import deque\n",
    "import heapq"
   ]
  },
  {
   "cell_type": "code",
   "execution_count": 109,
   "metadata": {},
   "outputs": [],
   "source": [
    "def maxSlidingWindow(nums: List[int], k: int) -> List[int]:\n",
    "    \"\"\"Use a max heap to keep track of the maximum value in the window\"\"\"\n",
    "    l, r = 0, 0\n",
    "    res = []\n",
    "    q = deque() # Store the indices of the elements in the window\n",
    "\n",
    "    while r < len(nums):\n",
    "        # While smaller elements are in the queue, remove them\n",
    "        while q and nums[q[-1]] < nums[r]:\n",
    "            q.pop()\n",
    "        q.append(r)\n",
    "\n",
    "        # If the left pointer is at the index of the element in the queue, remove it\n",
    "        if l > q[0]:\n",
    "            q.popleft()\n",
    "\n",
    "        if (r + 1) >= k:\n",
    "            res.append(nums[q[0]])\n",
    "            l += 1\n",
    "        r += 1\n",
    "\n",
    "    return res\n",
    "\n",
    "def maxSlidingWindow_heap(nums: List[int], k: int) -> List[int]:\n",
    "    heap = []\n",
    "    output = []\n",
    "\n",
    "    for i in range(len(nums)):\n",
    "        heapq.heappush(heap, (-nums[i], i))\n",
    "\n",
    "        if i >= k - 1:\n",
    "            while heap[0][1] <= i - k:\n",
    "                heapq.heappop(heap)\n",
    "        \n",
    "            output.append(-heap[0][0])\n",
    "    \n",
    "    return output"
   ]
  },
  {
   "cell_type": "code",
   "execution_count": 107,
   "metadata": {},
   "outputs": [
    {
     "data": {
      "text/plain": [
       "[3, 3, 5, 5, 6, 7]"
      ]
     },
     "execution_count": 107,
     "metadata": {},
     "output_type": "execute_result"
    }
   ],
   "source": [
    "nums = [1,2,1,0,4,2,6]\n",
    "k = 3\n",
    "maxSlidingWindow(nums, k)\n",
    "nums = [1,3,-1,-3,5,3,6,7]\n",
    "k = 3\n",
    "maxSlidingWindow(nums, k)"
   ]
  },
  {
   "cell_type": "code",
   "execution_count": null,
   "metadata": {},
   "outputs": [],
   "source": []
  }
 ],
 "metadata": {
  "kernelspec": {
   "display_name": ".venv",
   "language": "python",
   "name": "python3"
  },
  "language_info": {
   "codemirror_mode": {
    "name": "ipython",
    "version": 3
   },
   "file_extension": ".py",
   "mimetype": "text/x-python",
   "name": "python",
   "nbconvert_exporter": "python",
   "pygments_lexer": "ipython3",
   "version": "3.11.5"
  }
 },
 "nbformat": 4,
 "nbformat_minor": 2
}
