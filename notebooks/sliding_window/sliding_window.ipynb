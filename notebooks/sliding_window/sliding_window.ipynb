{
 "cells": [
  {
   "cell_type": "markdown",
   "metadata": {},
   "source": [
    "# Sliding Window: Easy Problems"
   ]
  },
  {
   "cell_type": "markdown",
   "metadata": {},
   "source": [
    "## Problem 1: Best Time to Buy and Sell Stock\n",
    "\n",
    "https://leetcode.com/problems/best-time-to-buy-and-sell-stock/\n",
    "\n",
    "You are given an integer array `prices` where `prices[i]` is the price of NeetCoin on the ith day.\n",
    "\n",
    "You may choose a single day to buy one NeetCoin and choose a different day in the future to sell it.\n",
    "\n",
    "Return the maximum profit you can achieve. You may choose to not make any transactions, in which case the profit would be `0`.\n",
    "\n",
    "Example 1:\n",
    "\n",
    "```\n",
    "Input: prices = [10,1,5,6,7,1]\n",
    "Output: 6\n",
    "```\n",
    "\n",
    "Explanation: Buy `prices[1]` and sell `prices[4]`, profit = `7 - 1 = 6`.\n",
    "\n",
    "\n",
    "Example 2:\n",
    "\n",
    "```\n",
    "Input: prices = [10,8,7,5,2]\n",
    "Output: 0\n",
    "```\n",
    "\n",
    "Explanation: No profitable transactions can be made, thus the max profit is `0`.\n",
    "\n",
    "Constraints:\n",
    "\n",
    "- `1 <= prices.length <= 100`\n",
    "- `0 <= prices[i] <= 100`\n"
   ]
  },
  {
   "cell_type": "code",
   "execution_count": null,
   "metadata": {},
   "outputs": [],
   "source": []
  }
 ],
 "metadata": {
  "language_info": {
   "name": "python"
  }
 },
 "nbformat": 4,
 "nbformat_minor": 2
}
