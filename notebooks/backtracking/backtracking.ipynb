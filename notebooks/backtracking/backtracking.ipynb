{
 "cells": [
  {
   "cell_type": "markdown",
   "metadata": {},
   "source": [
    "# Backtracking: Medium Problems\n",
    "\n",
    "## Problem 1: Subsets\n",
    "\n",
    "leetcode link: https://leetcode.com/problems/subsets/\n",
    "\n",
    "Given an array nums of unique integers, return all possible subsets of nums.\n",
    "\n",
    "The solution set must not contain duplicate subsets. You may return the solution in any order.\n",
    "\n",
    "Example 1:\n",
    "\n",
    "```\n",
    "Input: nums = [1,2,3]\n",
    "\n",
    "Output: [[],[1],[2],[1,2],[3],[1,3],[2,3],[1,2,3]]\n",
    "```\n",
    "\n",
    "Example 2:\n",
    "\n",
    "```\n",
    "Input: nums = [7]\n",
    "\n",
    "Output: [[],[7]]\n",
    "```\n",
    "\n",
    "Constraints:\n",
    "\n",
    "- `1 <= nums.length <= 10`\n",
    "- `-10 <= nums[i] <= 10`"
   ]
  },
  {
   "cell_type": "code",
   "execution_count": 4,
   "metadata": {},
   "outputs": [],
   "source": [
    "def subsets(nums: list[int]) -> list[list[int]]:\n",
    "    res = [[]]\n",
    "\n",
    "    for num in nums:\n",
    "        res += [subset + [num] for subset in res]\n",
    "\n",
    "    return res"
   ]
  },
  {
   "cell_type": "code",
   "execution_count": 6,
   "metadata": {},
   "outputs": [
    {
     "data": {
      "text/plain": [
       "[[], [1], [2], [1, 2], [3], [1, 3], [2, 3], [1, 2, 3]]"
      ]
     },
     "execution_count": 6,
     "metadata": {},
     "output_type": "execute_result"
    }
   ],
   "source": [
    "nums = [1,2,3]\n",
    "subsets(nums)"
   ]
  },
  {
   "cell_type": "markdown",
   "metadata": {},
   "source": [
    "## Problem 2: Combination Sum\n",
    "\n",
    "leetcode link: https://leetcode.com/problems/combination-sum/\n",
    "\n",
    "You are given an array of distinct integers `nums` and a target integer `target`. Your task is to return a list of all unique combinations of `nums` where the chosen numbers sum to `target`.\n",
    "\n",
    "The same number may be chosen from nums an unlimited number of times. Two combinations are the same if the frequency of each of the chosen numbers is the same, otherwise they are different.\n",
    "\n",
    "You may return the combinations in any order and the order of the numbers in each combination can be in any order.\n",
    "\n",
    "Example 1:\n",
    "\n",
    "```\n",
    "Input: \n",
    "nums = [2,5,6,9] \n",
    "target = 9\n",
    "```\n",
    "\n",
    "```\n",
    "Output: [[2,2,5],[9]]\n",
    "```\n",
    "\n",
    "Explanation:\n",
    "\n",
    "`2 + 2 + 5 = 9`. We use `2` twice, and `5` once.\n",
    "`9 = 9`. We use `9` once.\n",
    "\n",
    "Constraints:\n",
    "\n",
    "- All elements of nums are distinct.\n",
    "- `1 <= nums.length <= 20`\n",
    "- `2 <= nums[i] <= 30`\n",
    "- `2 <= target <= 30`\n",
    "\n"
   ]
  },
  {
   "cell_type": "code",
   "execution_count": 33,
   "metadata": {},
   "outputs": [],
   "source": [
    "def combinationSum(nums: list[int], target: int) -> list[list[int]]:\n",
    "    \"\"\"O(2^(t/m)) time and O(t/m) space,\n",
    "    where t is the given target and m is the minimum value in the given array\n",
    "    \"\"\"\n",
    "\n",
    "    res = []\n",
    "\n",
    "    def search(i: int, subset: list[int], subset_sum: int):\n",
    "        # Base case\n",
    "        if (subset_sum > target) or (i >= len(nums)):\n",
    "            return\n",
    "        # If we find the target, return subset\n",
    "        if subset_sum == target:\n",
    "            res.append(subset.copy())\n",
    "            return\n",
    "\n",
    "        # Include current number in subset\n",
    "        search(i, subset + [nums[i]], subset_sum + nums[i])\n",
    "        # Exclude current number from subset, move to next number\n",
    "        search(i + 1, subset, subset_sum)\n",
    "\n",
    "    search(0, [], 0)\n",
    "\n",
    "    return res\n"
   ]
  },
  {
   "cell_type": "code",
   "execution_count": 34,
   "metadata": {},
   "outputs": [
    {
     "data": {
      "text/plain": [
       "[[2, 2, 5], [9]]"
      ]
     },
     "execution_count": 34,
     "metadata": {},
     "output_type": "execute_result"
    }
   ],
   "source": [
    "%timeit\n",
    "nums = [2,5,6,9]\n",
    "target = 9\n",
    "combinationSum(nums, target)"
   ]
  },
  {
   "cell_type": "code",
   "execution_count": 35,
   "metadata": {},
   "outputs": [
    {
     "data": {
      "text/plain": [
       "[[3, 3, 3, 3, 4], [3, 3, 5, 5], [3, 4, 4, 5], [4, 4, 4, 4]]"
      ]
     },
     "execution_count": 35,
     "metadata": {},
     "output_type": "execute_result"
    }
   ],
   "source": [
    "nums = [3,4,5]\n",
    "target = 16\n",
    "combinationSum(nums, target)"
   ]
  },
  {
   "cell_type": "code",
   "execution_count": 36,
   "metadata": {},
   "outputs": [
    {
     "data": {
      "text/plain": [
       "[]"
      ]
     },
     "execution_count": 36,
     "metadata": {},
     "output_type": "execute_result"
    }
   ],
   "source": [
    "nums = [3]\n",
    "target = 5\n",
    "combinationSum(nums, target)\n"
   ]
  },
  {
   "cell_type": "markdown",
   "metadata": {},
   "source": [
    "## Problem 3: Permutations\n",
    "\n",
    "leetcode link: https://leetcode.com/problems/permutations/\n",
    "\n",
    "Given an array `nums` of distinct integers, return all possible permutations of `nums`. You can return the answer in any order.\n",
    "\n",
    "Example 1:\n",
    "\n",
    "```\n",
    "Input: nums = [1,2,3]\n",
    "\n",
    "Output: [[1,2,3],[1,3,2],[2,1,3],[2,3,1],[3,1,2],[3,2,1]]\n",
    "```\n",
    "\n",
    "Constraints:\n",
    "\n",
    "- `1 <= nums.length <= 6`\n",
    "- `-10 <= nums[i] <= 10`\n",
    "- All the integers of nums are unique.\n",
    "\n"
   ]
  },
  {
   "cell_type": "code",
   "execution_count": 51,
   "metadata": {},
   "outputs": [],
   "source": [
    "def permute(nums: list[int]) -> list[list[int]]:\n",
    "    res = []\n",
    "    n_nums = len(nums)\n",
    "\n",
    "    def search(subset: list[int], seen: set[int]):\n",
    "        if len(subset) == n_nums:\n",
    "            res.append(subset.copy())\n",
    "            return\n",
    "\n",
    "        for i in range(len(nums)):\n",
    "            if i not in seen:\n",
    "                seen.add(i)\n",
    "                search(subset + [nums[i]], seen)\n",
    "                seen.remove(i)\n",
    "    search([], set())\n",
    "\n",
    "    return res"
   ]
  },
  {
   "cell_type": "code",
   "execution_count": 56,
   "metadata": {},
   "outputs": [],
   "source": [
    "def permute2(nums: list[int]) -> list[list[int]]:\n",
    "    \"\"\"O(n * n!) time and O(n) space\n",
    "    n! is the number of permutations\n",
    "    each recursive call is O(n)\n",
    "    n is the number of recursive calls\n",
    "    \"\"\"\n",
    "\n",
    "    result = []\n",
    "\n",
    "    def backtrack(start: int):\n",
    "        if start == len(nums):\n",
    "            result.append(nums.copy())\n",
    "            return\n",
    "\n",
    "        # For every recursive call:\n",
    "        # Swap the current index with other indices to generate permutations.\n",
    "        # Restore the original order by swapping back after the recursive call.\n",
    "        for i in range(start, len(nums)):\n",
    "            # Swap the current element with the start element\n",
    "            nums[start], nums[i] = nums[i], nums[start]\n",
    "            # Recurse on the rest of the array\n",
    "            backtrack(start + 1)\n",
    "            # Backtrack by swapping the current element back\n",
    "            nums[start], nums[i] = nums[i], nums[start]\n",
    "\n",
    "    backtrack(0)\n",
    "    return result\n"
   ]
  },
  {
   "cell_type": "code",
   "execution_count": 57,
   "metadata": {},
   "outputs": [
    {
     "data": {
      "text/plain": [
       "[[1, 2, 3], [1, 3, 2], [2, 1, 3], [2, 3, 1], [3, 1, 2], [3, 2, 1]]"
      ]
     },
     "execution_count": 57,
     "metadata": {},
     "output_type": "execute_result"
    }
   ],
   "source": [
    "nums = [1,2,3]\n",
    "permute(nums)"
   ]
  },
  {
   "cell_type": "code",
   "execution_count": 58,
   "metadata": {},
   "outputs": [
    {
     "data": {
      "text/plain": [
       "[[1, 2, 3], [1, 3, 2], [2, 1, 3], [2, 3, 1], [3, 2, 1], [3, 1, 2]]"
      ]
     },
     "execution_count": 58,
     "metadata": {},
     "output_type": "execute_result"
    }
   ],
   "source": [
    "nums = [1,2,3]\n",
    "permute2(nums)"
   ]
  },
  {
   "cell_type": "markdown",
   "metadata": {},
   "source": [
    "## Subsets II\n",
    "\n",
    "leetcode link: https://leetcode.com/problems/subsets-ii/\n",
    "\n",
    "Given an integer array `nums` that may contain duplicates, return all possible subsets of `nums`.\n",
    "\n",
    "The solution set must not contain duplicate subsets. Return the solution in any order.\n",
    "\n",
    "Example 1:\n",
    "\n",
    "```\n",
    "Input: nums = [1,2,2]\n",
    "\n",
    "Output: [[],[1],[1,2],[1,2,2],[2],[2,2]]\n",
    "```\n",
    "\n",
    "Constraints:\n",
    "\n",
    "- `1 <= nums.length <= 10`\n",
    "- `-10 <= nums[i] <= 10`"
   ]
  },
  {
   "cell_type": "code",
   "execution_count": 60,
   "metadata": {},
   "outputs": [
    {
     "data": {
      "text/plain": [
       "[1, 1, 2]"
      ]
     },
     "execution_count": 60,
     "metadata": {},
     "output_type": "execute_result"
    }
   ],
   "source": [
    "nums = [1,2,1]\n",
    "nums.sort()\n",
    "nums"
   ]
  },
  {
   "cell_type": "code",
   "execution_count": 96,
   "metadata": {},
   "outputs": [],
   "source": [
    "def subsetsWithDup(nums: list[int]) -> list[list[int]]:\n",
    "    \"\"\"O(n * 2^n) time and O(n) space\"\"\"\n",
    "    nums.sort()\n",
    "    n_nums = len(nums)\n",
    "    res = []\n",
    "\n",
    "    def backtrack(i: int, subset: list[int]):\n",
    "        res.append(subset.copy())\n",
    "\n",
    "        for j in range(i, n_nums):\n",
    "            if j > i and nums[j] == nums[j-1]:\n",
    "                continue\n",
    "            backtrack(j+1, subset + [nums[j]])\n",
    "\n",
    "    def backtrack2(i: int, subset: list[int]):\n",
    "        # Base case\n",
    "        if i == len(nums):\n",
    "            res.append(subset.copy())\n",
    "            return\n",
    "\n",
    "        # Include current number in subset\n",
    "        subset.append(nums[i])\n",
    "        # Recurse on next number\n",
    "        backtrack(i + 1, subset)\n",
    "        # Exclude current number from subset\n",
    "        subset.pop()\n",
    "\n",
    "        # Skip duplicates\n",
    "        while i + 1 < len(nums) and nums[i] == nums[i + 1]:\n",
    "            i += 1\n",
    "        # Recurse on next number, excluding current number\n",
    "        backtrack(i + 1, subset)\n",
    "\n",
    "    backtrack(0, [])\n",
    "\n",
    "    return res\n",
    "\n",
    "def subsetsWithDup_iter(nums: list[int]) -> list[list[int]]:\n",
    "    \"\"\"O(n * 2^n) time and O(1) space\"\"\"\n",
    "    nums.sort()\n",
    "    res = [[]]\n",
    "    prev_idx, idx = 0, 0 # Initialize pointers for handling duplicates\n",
    "\n",
    "    for i in range(len(nums)):\n",
    "        if i >= 1 and nums[i] == nums[i - 1]:\n",
    "            idx = prev_idx\n",
    "            # If the current number is a duplicate, start adding new subsets\n",
    "            # from the previous end index (prev_idx)\n",
    "        else:\n",
    "            # If the current number is not a duplicate, start adding new\n",
    "            # subsets from the beginning of the result list\n",
    "            idx = 0\n",
    "\n",
    "        # Update prev_idx to the current end of the result list\n",
    "        prev_idx = len(res)\n",
    "\n",
    "        for j in range(idx, prev_idx):\n",
    "            # Create new subsets by appending the current number to existing subsets\n",
    "            # starting from index idx up to prev_idx\n",
    "            tmp = res[j].copy()\n",
    "            tmp.append(nums[i])\n",
    "            res.append(tmp)\n",
    "\n",
    "    return res"
   ]
  },
  {
   "cell_type": "code",
   "execution_count": 97,
   "metadata": {},
   "outputs": [
    {
     "data": {
      "text/plain": [
       "[[], [1], [1, 1], [1, 1, 2], [1, 2], [2]]"
      ]
     },
     "execution_count": 97,
     "metadata": {},
     "output_type": "execute_result"
    }
   ],
   "source": [
    "subsetsWithDup([1,2,1])"
   ]
  },
  {
   "cell_type": "markdown",
   "metadata": {},
   "source": [
    "## Problem 5: Combination Sum II\n",
    "\n",
    "leetcode link: https://leetcode.com/problems/combination-sum-ii/\n",
    "\n",
    "Given a collection of candidate numbers (`candidates`) and a target number (`target`), find all unique combinations in `candidates` where the candidate numbers sum to `target`.\n",
    "\n",
    "Each number in `candidates` may only be used once in the combination.\n",
    "\n",
    "Note: The solution set must not contain duplicate combinations.\n",
    "\n",
    "Example 1:\n",
    "\n",
    "```\n",
    "Input: candidates = [10,1,2,7,6,1,5], target = 8\n",
    "\n",
    "Output: [[1,1,6],[1,2,5],[1,7],[2,6]]\n",
    "```\n",
    "\n",
    "Example 2:\n",
    "\n",
    "```\n",
    "Input: candidates = [9,2,2,4,6,1,5], target = 8\n",
    "\n",
    "Output: [\n",
    "  [1,2,5],\n",
    "  [2,2,4],\n",
    "  [2,6]\n",
    "]\n",
    "```\n",
    "\n",
    "Constraints:\n",
    "\n",
    "- `1 <= candidates.length <= 100`\n",
    "- `1 <= candidates[i] <= 50`\n",
    "- `1 <= target <= 30`"
   ]
  },
  {
   "cell_type": "code",
   "execution_count": 117,
   "metadata": {},
   "outputs": [],
   "source": [
    "def combinationSum2(candidates: list[int], target: int) -> list[list[int]]:\n",
    "    candidates.sort()\n",
    "    nc = len(candidates)\n",
    "    res = []\n",
    "\n",
    "    def backtrack(i: int, subset: list[int], cumsum: int):\n",
    "        if cumsum > target:\n",
    "            return\n",
    "        if cumsum == target:\n",
    "            res.append(subset.copy())\n",
    "\n",
    "        for j in range(i, nc):\n",
    "            if j > i and candidates[j] == candidates[j - 1]:\n",
    "                continue\n",
    "            if cumsum + candidates[j] > target:\n",
    "                break\n",
    "            backtrack(j+1, subset + [candidates[j]], cumsum + candidates[j])\n",
    "\n",
    "    backtrack(0, [], 0)\n",
    "\n",
    "    return res"
   ]
  },
  {
   "cell_type": "code",
   "execution_count": 118,
   "metadata": {},
   "outputs": [
    {
     "data": {
      "text/plain": [
       "[[1, 2, 5], [2, 2, 4], [2, 6]]"
      ]
     },
     "execution_count": 118,
     "metadata": {},
     "output_type": "execute_result"
    }
   ],
   "source": [
    "candidates = [9,2,2,4,6,1,5]\n",
    "target = 8\n",
    "combinationSum2(candidates, target)"
   ]
  },
  {
   "cell_type": "markdown",
   "metadata": {},
   "source": [
    "## Problem 6: Word Search\n",
    "\n",
    "leetcode link: https://leetcode.com/problems/word-search/\n",
    "\n",
    "Given an `m x n` grid of characters `board` and a string `word`, return `true` if `word` exists in the grid.\n",
    "\n",
    "The word can be constructed from letters of sequentially adjacent cells, where adjacent cells are horizontally or vertically neighboring. The same letter cell may not be used more than once.\n",
    "\n",
    "```\n",
    "Input: \n",
    "board = [\n",
    "  [\"A\",\"B\",\"C\",\"D\"],\n",
    "  [\"S\",\"A\",\"A\",\"T\"],\n",
    "  [\"A\",\"C\",\"A\",\"E\"]\n",
    "],\n",
    "word = \"CAT\"\n",
    "\n",
    "Output: true\n",
    "````    \n",
    "\n",
    "Constraints:\n",
    "\n",
    "- `m == board.length`\n",
    "- `n = board[i].length`\n",
    "- `1 <= m, n <= 6`\n",
    "- `1 <= word.length <= 15`\n",
    "- `board` and `word` consist of only lowercase and uppercase English letters."
   ]
  },
  {
   "cell_type": "code",
   "execution_count": 145,
   "metadata": {},
   "outputs": [],
   "source": [
    "def exist(board: list[list[str]], word: str) -> bool:\n",
    "    n_rows, n_cols = len(board), len(board[0])\n",
    "\n",
    "    def search(word_index: int, row: int, col: int):\n",
    "        if word_index == len(word):\n",
    "            return True\n",
    "\n",
    "        # Check if out of bounds\n",
    "        if row < 0 or col < 0 or row >= n_rows or col >= n_cols:\n",
    "            return False\n",
    "        # Check if already visited\n",
    "        if board[row][col] == '#':\n",
    "            return False\n",
    "        # Check if current letter matches\n",
    "        if board[row][col] != word[word_index]:\n",
    "            return False\n",
    "\n",
    "        # Update board to mark as visited\n",
    "        board[row][col] = '#'\n",
    "\n",
    "        # Recurse on all 4 directions\n",
    "        res = (\n",
    "            search(word_index+1, row+1, col) or \n",
    "            search(word_index+1, row-1, col) or \n",
    "            search(word_index+1, row, col+1) or \n",
    "            search(word_index+1, row, col-1)\n",
    "        )\n",
    "        # Remove from visited (backtrack)\n",
    "        board[row][col] = word[word_index]\n",
    "\n",
    "        return res\n",
    "\n",
    "    for row in range(n_rows):\n",
    "        for col in range(n_cols):\n",
    "            if search(0, row, col):\n",
    "                return True\n",
    "\n",
    "    return False\n"
   ]
  },
  {
   "cell_type": "code",
   "execution_count": 146,
   "metadata": {},
   "outputs": [
    {
     "data": {
      "text/plain": [
       "False"
      ]
     },
     "execution_count": 146,
     "metadata": {},
     "output_type": "execute_result"
    }
   ],
   "source": [
    "board = [\n",
    "  [\"A\",\"B\",\"C\",\"D\"],\n",
    "  [\"S\",\"A\",\"A\",\"T\"],\n",
    "  [\"A\",\"C\",\"A\",\"E\"]\n",
    "]\n",
    "word = \"BAT\"\n",
    "exist(board, word)"
   ]
  },
  {
   "cell_type": "code",
   "execution_count": 147,
   "metadata": {},
   "outputs": [
    {
     "data": {
      "text/plain": [
       "True"
      ]
     },
     "execution_count": 147,
     "metadata": {},
     "output_type": "execute_result"
    }
   ],
   "source": [
    "board = [\n",
    "  [\"A\",\"B\",\"C\",\"D\"],\n",
    "  [\"S\",\"A\",\"A\",\"T\"],\n",
    "  [\"A\",\"C\",\"A\",\"E\"]\n",
    "]\n",
    "word = \"CAT\"\n",
    "exist(board, word)"
   ]
  },
  {
   "cell_type": "markdown",
   "metadata": {},
   "source": [
    "## Problem 7: Palindrome Partitioning\n",
    "\n",
    "leetcode link: https://leetcode.com/problems/palindrome-partitioning/\n",
    "\n",
    "Given a string `s`, partition `s` such that every substring of the partition is a palindrome. Return all possible palindrome partitioning of `s`.\n",
    "\n",
    "A palindrome string is a string that reads the same backward as forward.\n",
    "\n",
    "Example 1:\n",
    "\n",
    "```\n",
    "Input: s = \"aab\"\n",
    "\n",
    "Output: [[\"a\",\"a\",\"b\"],[\"aa\",\"b\"]]\n",
    "```\n",
    "\n",
    "Example 2:\n",
    "\n",
    "```\n",
    "Input: s = \"a\"\n",
    "\n",
    "Output: [[\"a\"]]\n",
    "```\n",
    "\n",
    "Constraints:\n",
    "\n",
    "- `1 <= s.length <= 20`\n",
    "- `s` contains only lowercase English letters.\n"
   ]
  },
  {
   "cell_type": "code",
   "execution_count": 155,
   "metadata": {},
   "outputs": [],
   "source": [
    "class Solution:\n",
    "    def partition(self, s: str) -> list[list[str]]:\n",
    "        res = []\n",
    "\n",
    "        def backtrack(i: int, path: list[str]):\n",
    "            # If we have reached the end of the string, add the path to the result\n",
    "            if i >= len(s):\n",
    "                res.append(path.copy())\n",
    "                return\n",
    "\n",
    "            # Iterate over all possible substrings\n",
    "            for j in range(i+1, len(s)+1):\n",
    "                # If the substring is a palindrome, add it to the path and recurse\n",
    "                if self.is_palindrome(s[i:j]):\n",
    "                    backtrack(j, path + [s[i:j]])\n",
    "\n",
    "        backtrack(0, [])\n",
    "        return res\n",
    "\n",
    "\n",
    "    def is_palindrome(self, substring: str):\n",
    "        \"\"\"O(n) time and O(1) space\"\"\"\n",
    "        l, r = 0, len(substring) - 1\n",
    "        while l < r:\n",
    "            if substring[l] != substring[r]:\n",
    "                return False\n",
    "            l += 1\n",
    "            r -= 1\n",
    "        return True\n",
    "\n",
    "    def partition_dp(self, s: str) -> list[list[str]]:\n",
    "        res = []\n",
    "        n = len(s)\n",
    "        dp = [[False] * n for _ in range(n)]\n",
    "        for l in range(1, n + 1):\n",
    "            for i in range(n - l + 1):\n",
    "                dp[i][i + l - 1] = (\n",
    "                    s[i] == s[i + l - 1] and\n",
    "                    (i + 1 > (i + l - 2) or\n",
    "                    dp[i + 1][i + l - 2])\n",
    "                    )\n",
    "\n",
    "        def backtrack(i: int, path: list[str]):\n",
    "            # If we have reached the end of the string, add the path to the result\n",
    "            if i >= len(s):\n",
    "                res.append(path.copy())\n",
    "                return\n",
    "\n",
    "            # Iterate over all possible substrings\n",
    "            for j in range(i+1, len(s)+1):\n",
    "                # If the substring is a palindrome, add it to the path and recurse\n",
    "                if dp[i][j]:\n",
    "                    backtrack(j, path + [s[i:j]])\n",
    "\n",
    "        backtrack(0, [])\n",
    "        return res"
   ]
  },
  {
   "cell_type": "code",
   "execution_count": 156,
   "metadata": {},
   "outputs": [
    {
     "data": {
      "text/plain": [
       "[['a', 'a', 'b'], ['aa', 'b']]"
      ]
     },
     "execution_count": 156,
     "metadata": {},
     "output_type": "execute_result"
    }
   ],
   "source": [
    "s = \"aab\"\n",
    "Solution().partition(s)"
   ]
  },
  {
   "cell_type": "markdown",
   "metadata": {},
   "source": [
    "## Problem 8: Letter Combinations of a Phone Number\n",
    "\n",
    "leetcode link: https://leetcode.com/problems/letter-combinations-of-a-phone-number/\n",
    "\n",
    "Given a string containing digits from `2-9`, return all possible letter combinations that the number could represent. Return the answer in any order.\n",
    "\n",
    "A mapping of digits to letters (just like on the telephone buttons) is given below. Note that 1 does not map to any letters.\n",
    "\n",
    "Example 1:\n",
    "\n",
    "```\n",
    "Input: digits = \"34\"\n",
    "\n",
    "Output: [\"dg\",\"dh\",\"di\",\"eg\",\"eh\",\"ei\",\"fg\",\"fh\",\"fi\"]\n",
    "```\n",
    "\n",
    "Constraints:\n",
    "\n",
    "- `0 <= digits.length <= 4`\n",
    "- `digits[i]` is a digit in the range `['2', '3', '4', '5', '6', '7', '8', '9']`.\n"
   ]
  },
  {
   "cell_type": "code",
   "execution_count": 164,
   "metadata": {},
   "outputs": [],
   "source": [
    "def letterCombinations(digits: str) -> list[str]:\n",
    "    num_map = {\n",
    "        '2': ['a', 'b', 'c'],\n",
    "        '3': ['d', 'e', 'f'],\n",
    "        '4': ['g', 'h', 'i'],\n",
    "        '5': ['j', 'k', 'l'],\n",
    "        '6': ['m', 'n', 'o'],\n",
    "        '7': ['p', 'q', 'r', 's'],\n",
    "        '8': ['t', 'u', 'v'],\n",
    "        '9': ['w', 'x', 'y', 'z']\n",
    "    }\n",
    "\n",
    "    res = []\n",
    "    n_dig = len(digits)\n",
    "\n",
    "    def backtrack(i: int, path: str):\n",
    "        if i == n_dig:\n",
    "            res.append(path)\n",
    "            return\n",
    "\n",
    "        digit = digits[i]\n",
    "        letters = num_map[digit]\n",
    "        for letter in letters:\n",
    "            backtrack(i+1, path + letter)\n",
    "\n",
    "    backtrack(0, \"\")\n",
    "    return res"
   ]
  },
  {
   "cell_type": "code",
   "execution_count": 165,
   "metadata": {},
   "outputs": [
    {
     "data": {
      "text/plain": [
       "['dg', 'dh', 'di', 'eg', 'eh', 'ei', 'fg', 'fh', 'fi']"
      ]
     },
     "execution_count": 165,
     "metadata": {},
     "output_type": "execute_result"
    }
   ],
   "source": [
    "digits = \"34\"\n",
    "letterCombinations(digits)"
   ]
  },
  {
   "cell_type": "code",
   "execution_count": 161,
   "metadata": {},
   "outputs": [
    {
     "data": {
      "text/plain": [
       "[[]]"
      ]
     },
     "execution_count": 161,
     "metadata": {},
     "output_type": "execute_result"
    }
   ],
   "source": [
    "digits = \"\"\n",
    "letterCombinations(digits)"
   ]
  },
  {
   "cell_type": "markdown",
   "metadata": {},
   "source": [
    "# Backtracking: Hard Problems\n",
    "\n",
    "## Problem 9: N-Queens\n",
    "\n",
    "leetcode link: https://leetcode.com/problems/n-queens/\n",
    "\n",
    "The n-queens puzzle is the problem of placing `n` queens on an `n x n` chessboard such that no two queens attack each other.\n",
    "\n",
    "Given an integer `n`, return all distinct solutions to the n-queens puzzle. You may return the answer in any order.\n",
    "\n",
    "Each solution contains a distinct board configuration of the n-queens' placement, where `'Q'` and `'.'` both indicate a queen and an empty space, respectively.\n",
    "\n",
    "Example 1:\n",
    "\n",
    "```\n",
    "Input: n = 4\n",
    "\n",
    "Output: [[\".Q..\",\"...Q\",\"Q...\",\"..Q.\"],[\"..Q.\",\"Q...\",\"...Q\",\".Q..\"]]\n",
    "Explanation: There are two different solutions to the 4-queens puzzle.\n",
    "```\n",
    "\n",
    "Example 2:\n",
    "\n",
    "```\n",
    "Input: n = 1\n",
    "\n",
    "Output: [[\"Q\"]]\n",
    "```\n",
    "\n",
    "Constraints:\n",
    "\n",
    "- `1 <= n <= 8`\n"
   ]
  },
  {
   "cell_type": "code",
   "execution_count": 172,
   "metadata": {},
   "outputs": [],
   "source": [
    "class Solution:\n",
    "    def solveNQueens(self, n: int) -> list[list[str]]:\n",
    "        res = []\n",
    "        board = [[\".\"] * n for i in range(n)]\n",
    "\n",
    "        def backtrack(row: int):\n",
    "            # Base case, return result\n",
    "            if row == n:\n",
    "                res.append([\"\".join(row) for row in board])\n",
    "                return\n",
    "\n",
    "            for col in range(n):\n",
    "                if self.is_safe(row, col, board):\n",
    "                    board[row][col] = \"Q\"\n",
    "                    backtrack(row + 1)\n",
    "                    board[row][col] = \".\"\n",
    "\n",
    "        backtrack(0)\n",
    "\n",
    "        return res\n",
    "\n",
    "    def is_safe(self, r: int, c: int, board: list[str]):\n",
    "        # Check if any queens already on row\n",
    "        row = r - 1\n",
    "        while row >= 0:\n",
    "            if board[row][c] == \"Q\":\n",
    "                return False\n",
    "            row -= 1\n",
    "\n",
    "        # Check and queens on either diagonal\n",
    "        row = r - 1\n",
    "        col = c - 1\n",
    "        while row >= 0 and col >= 0:\n",
    "            if board[row][col] == \"Q\":\n",
    "                return False\n",
    "            row -=1\n",
    "            col -= 1\n",
    "\n",
    "        row = r - 1\n",
    "        col = c + 1\n",
    "        while row >= 0 and col < len(board):\n",
    "            if board[row][col] == \"Q\":\n",
    "                return False\n",
    "            row -=1\n",
    "            col += 1\n",
    "        return True"
   ]
  },
  {
   "cell_type": "code",
   "execution_count": 173,
   "metadata": {},
   "outputs": [
    {
     "data": {
      "text/plain": [
       "[['.Q..', '...Q', 'Q...', '..Q.'], ['..Q.', 'Q...', '...Q', '.Q..']]"
      ]
     },
     "execution_count": 173,
     "metadata": {},
     "output_type": "execute_result"
    }
   ],
   "source": [
    "n = 4\n",
    "Solution().solveNQueens(n)"
   ]
  },
  {
   "cell_type": "code",
   "execution_count": 174,
   "metadata": {},
   "outputs": [],
   "source": [
    "class Solution2:\n",
    "    def solveNQueens(self, n: int) -> list[list[str]]:\n",
    "        col_set = set()\n",
    "        pos_diag_set = set()\n",
    "        neg_diag_set = set()\n",
    "        res = []\n",
    "        board = [[\".\"] * n for i in range(n)]\n",
    "\n",
    "        def backtrack(row: int):\n",
    "            if row == n:\n",
    "                res.append([\"\".join(row) for row in board])\n",
    "                return\n",
    "\n",
    "            for col in range(n):\n",
    "                if col in col_set or (row + col) in pos_diag_set or (row - col) in neg_diag_set:\n",
    "                    continue\n",
    "\n",
    "                col_set.add(col)\n",
    "                pos_diag_set.add(row + col)\n",
    "                neg_diag_set.add(row - col)\n",
    "                board[row][col] = \"Q\"\n",
    "                backtrack(row + 1)\n",
    "                # Backtrack\n",
    "                col_set.remove(col)\n",
    "                pos_diag_set.remove(row + col)\n",
    "                neg_diag_set.remove(row - col)\n",
    "                board[row][col] = \".\"\n",
    "\n",
    "        backtrack(0)\n",
    "        return res"
   ]
  },
  {
   "cell_type": "code",
   "execution_count": 175,
   "metadata": {},
   "outputs": [
    {
     "data": {
      "text/plain": [
       "[['.Q..', '...Q', 'Q...', '..Q.'], ['..Q.', 'Q...', '...Q', '.Q..']]"
      ]
     },
     "execution_count": 175,
     "metadata": {},
     "output_type": "execute_result"
    }
   ],
   "source": [
    "n = 4\n",
    "Solution2().solveNQueens(n)"
   ]
  },
  {
   "cell_type": "code",
   "execution_count": null,
   "metadata": {},
   "outputs": [],
   "source": []
  }
 ],
 "metadata": {
  "kernelspec": {
   "display_name": ".venv",
   "language": "python",
   "name": "python3"
  },
  "language_info": {
   "codemirror_mode": {
    "name": "ipython",
    "version": 3
   },
   "file_extension": ".py",
   "mimetype": "text/x-python",
   "name": "python",
   "nbconvert_exporter": "python",
   "pygments_lexer": "ipython3",
   "version": "3.11.5"
  }
 },
 "nbformat": 4,
 "nbformat_minor": 2
}
