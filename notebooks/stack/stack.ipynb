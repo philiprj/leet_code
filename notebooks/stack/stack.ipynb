{
 "cells": [
  {
   "cell_type": "code",
   "execution_count": 1,
   "metadata": {},
   "outputs": [],
   "source": [
    "from typing import List"
   ]
  },
  {
   "cell_type": "markdown",
   "metadata": {},
   "source": [
    "# Stack: Easy Problems"
   ]
  },
  {
   "cell_type": "markdown",
   "metadata": {},
   "source": [
    "## Problem  1: Valid Parentheses\n",
    "\n",
    "https://leetcode.com/problems/valid-parentheses/\n",
    "\n",
    "You are given a string s consisting of the following characters: '(', ')', '{', '}', '[' and ']'.\n",
    "\n",
    "The input string s is valid if and only if:\n",
    "\n",
    "Every open bracket is closed by the same type of close bracket.\n",
    "Open brackets are closed in the correct order.\n",
    "Every close bracket has a corresponding open bracket of the same type.\n",
    "Return true if s is a valid string, and false otherwise.\n",
    "\n",
    "Example 1:\n",
    "\n",
    "```\n",
    "Input: s = \"[]\"\n",
    "Output: true\n",
    "```\n",
    "\n",
    "Example 2:\n",
    "\n",
    "```\n",
    "Input: s = \"([{}])\"\n",
    "Output: true\n",
    "```\n",
    "\n",
    "Example 3:\n",
    "\n",
    "```\n",
    "Input: s = \"[(])\"\n",
    "Output: false\n",
    "```\n",
    "\n",
    "Explanation: The brackets are not closed in the correct order.\n",
    "\n",
    "Constraints:\n",
    "\n",
    "```\n",
    "1 <= s.length <= 1000\n",
    "```\n"
   ]
  },
  {
   "cell_type": "code",
   "execution_count": 7,
   "metadata": {},
   "outputs": [],
   "source": [
    "def isValid(s: str) -> bool:\n",
    "    close_open = { \")\" : \"(\", \"]\" : \"[\", \"}\" : \"{\" }\n",
    "    stack = []\n",
    "    \n",
    "    for c in s:\n",
    "        # Check if c is closing bracket\n",
    "        if c in close_open:\n",
    "            if stack and stack[-1] == close_open[c]:\n",
    "                stack.pop()\n",
    "            else:\n",
    "                return False\n",
    "        else:\n",
    "            stack.append(c)\n",
    "    return not stack\n"
   ]
  },
  {
   "cell_type": "code",
   "execution_count": 8,
   "metadata": {},
   "outputs": [
    {
     "data": {
      "text/plain": [
       "True"
      ]
     },
     "execution_count": 8,
     "metadata": {},
     "output_type": "execute_result"
    }
   ],
   "source": [
    "s = \"[]\"\n",
    "isValid(s) == True\n",
    "\n",
    "\n",
    "s = \"([{}])\"\n",
    "isValid(s) == True\n",
    "\n",
    "s = \"[(])\"\n",
    "isValid(s) == False\n"
   ]
  },
  {
   "cell_type": "markdown",
   "metadata": {},
   "source": [
    "# Stack: Medium Problems"
   ]
  },
  {
   "cell_type": "markdown",
   "metadata": {},
   "source": [
    "## Problem 2: Min Stack\n",
    "\n",
    "https://leetcode.com/problems/min-stack/\n",
    "\n",
    "\n",
    "Design a stack that supports push, pop, top, and retrieving the minimum element in constant time.\n",
    "\n",
    "Implement the MinStack class:\n",
    "\n",
    "- MinStack() initializes the stack object.\n",
    "- void push(int val) pushes the element val onto the stack.\n",
    "- void pop() removes the element on the top of the stack.\n",
    "- int top() gets the top element of the stack.\n",
    "- int getMin() retrieves the minimum element in the stack.\n",
    "\n",
    "You must implement a solution with O(1) time complexity for each function.\n",
    "\n",
    "Example 1:\n",
    "\n",
    "```\n",
    "Input\n",
    "[\"MinStack\",\"push\",\"push\",\"push\",\"getMin\",\"pop\",\"top\",\"getMin\"]\n",
    "[[],[-2],[0],[-3],[],[],[],[]]\n",
    "\n",
    "Output\n",
    "[null,null,null,null,-3,null,0,-2]\n",
    "```\n",
    "\n",
    "Explanation\n",
    "- MinStack minStack = new MinStack();\n",
    "- minStack.push(-2);\n",
    "- minStack.push(0);\n",
    "- minStack.push(-3);\n",
    "- minStack.getMin(); // return -3\n",
    "- minStack.pop();\n",
    "- minStack.top();    // return 0\n",
    "- minStack.getMin(); // return -2\n",
    " \n",
    "\n",
    "Constraints:\n",
    "```\n",
    "-231 <= val <= 231 - 1\n",
    "```\n",
    "Methods pop, top and getMin operations will always be called on non-empty stacks.\n",
    "At most 3 * 104 calls will be made to push, pop, top, and getMin.\n"
   ]
  },
  {
   "cell_type": "code",
   "execution_count": 14,
   "metadata": {},
   "outputs": [],
   "source": [
    "class MinStack:\n",
    "\n",
    "    def __init__(self):\n",
    "        self.stack = []\n",
    "        self.min_stack = []\n",
    "\n",
    "    def push(self, val: int) -> None:\n",
    "        self.stack.append(val)\n",
    "        val = min(val, self.min_stack[-1] if self.min_stack else val)\n",
    "        self.min_stack.append(val)\n",
    "\n",
    "    def pop(self) -> None:\n",
    "        self.min_stack.pop()\n",
    "        self.stack.pop()\n",
    "\n",
    "    def top(self) -> int:\n",
    "        return self.stack[-1]\n",
    "\n",
    "    def getMin(self) -> int:\n",
    "        return self.min_stack[-1]"
   ]
  },
  {
   "cell_type": "code",
   "execution_count": 15,
   "metadata": {},
   "outputs": [
    {
     "name": "stdout",
     "output_type": "stream",
     "text": [
      "-3\n",
      "0\n",
      "-2\n"
     ]
    }
   ],
   "source": [
    "# Your MinStack object will be instantiated and called as such:\n",
    "obj = MinStack()\n",
    "obj.push(-2)\n",
    "obj.push(0)\n",
    "obj.push(-3)\n",
    "print(obj.getMin())\n",
    "obj.pop()\n",
    "print(obj.top())\n",
    "print(obj.getMin())"
   ]
  },
  {
   "cell_type": "markdown",
   "metadata": {},
   "source": [
    "## Problem 3: Evaluate Reverse Polish Notation\n",
    "\n",
    "https://leetcode.com/problems/evaluate-reverse-polish-notation/\n",
    "\n",
    "You are given an array of strings tokens that represents a valid arithmetic expression in Reverse Polish Notation.\n",
    "\n",
    "Return the integer that represents the evaluation of the expression.\n",
    "\n",
    "The operands may be integers or the results of other operations.\n",
    "The operators include `'+', '-', '*', and '/'`.\n",
    "Assume that division between integers always truncates toward zero.\n",
    "Example 1:\n",
    "\n",
    "```\n",
    "Input: tokens = [\"1\",\"2\",\"+\",\"3\",\"*\",\"4\",\"-\"]\n",
    "\n",
    "Output: 5\n",
    "```\n",
    "\n",
    "Explanation: `((1 + 2) * 3) - 4 = 5`\n",
    "\n",
    "Constraints:\n",
    "`1 <= tokens.length <= 1000.`\n",
    "`tokens[i]` is `\"+\", \"-\", \"*\", or \"/\"`, or a string representing an integer in the range `[-100, 100]`.\n",
    "\n"
   ]
  },
  {
   "cell_type": "code",
   "execution_count": 32,
   "metadata": {},
   "outputs": [],
   "source": [
    "def evalRPN(tokens: List[str]) -> int:\n",
    "    \"\"\"We know this is valid, so we don't need to check for validity.\"\"\"\n",
    "    res = 0\n",
    "    stack = []\n",
    "    for token in tokens:\n",
    "        if token == \"+\":\n",
    "                stack.append(stack.pop() + stack.pop())\n",
    "        elif token == \"-\":\n",
    "            x, y = stack.pop(), stack.pop()\n",
    "            stack.append(y - x)\n",
    "        elif token == \"*\":\n",
    "            stack.append(stack.pop() * stack.pop())\n",
    "        elif token == \"/\":\n",
    "            x, y = stack.pop(), stack.pop()\n",
    "            stack.append(int(y / x))\n",
    "        else:\n",
    "            stack.append(int(token))\n",
    "    return stack[0]"
   ]
  },
  {
   "cell_type": "code",
   "execution_count": 33,
   "metadata": {},
   "outputs": [
    {
     "data": {
      "text/plain": [
       "True"
      ]
     },
     "execution_count": 33,
     "metadata": {},
     "output_type": "execute_result"
    }
   ],
   "source": [
    "# tokens = [\"1\",\"2\",\"+\",\"3\",\"*\",\"4\",\"-\"]\n",
    "# tokens = [\"2\",\"1\",\"+\",\"3\",\"*\"]\n",
    "# tokens = [\"4\",\"13\",\"5\",\"/\",\"+\"]\n",
    "tokens = [\"10\",\"6\",\"9\",\"3\",\"+\",\"-11\",\"*\",\"/\",\"*\",\"17\",\"+\",\"5\",\"+\"]\n",
    "\n",
    "evalRPN(tokens) == 22"
   ]
  },
  {
   "cell_type": "markdown",
   "metadata": {},
   "source": [
    "## Problem 4: Generate Parentheses\n",
    "\n",
    "https://leetcode.com/problems/generate-parentheses/\n",
    "\n",
    "Note this is a backtracking problem. Not related to the stack.\n",
    "\n",
    "You are given an integer n. Return all well-formed parentheses strings that you can generate with n pairs of parentheses.\n",
    "\n",
    "Example 1:\n",
    "\n",
    "```\n",
    "Input: n = 1\n",
    "Output: [\"()\"]\n",
    "```\n",
    "\n",
    "Example 2:\n",
    "\n",
    "```\n",
    "Input: n = 3\n",
    "Output: [\"((()))\",\"(()())\",\"(())()\",\"()(())\",\"()()()\"]\n",
    "```\n",
    "\n",
    "You may return the answer in any order.\n",
    "\n",
    "Constraints:\n",
    "```\n",
    "1 <= n <= 7\n",
    "```"
   ]
  },
  {
   "cell_type": "code",
   "execution_count": 53,
   "metadata": {},
   "outputs": [],
   "source": [
    "def generateParenthesis(n: int) -> List[str]:\n",
    "    # Only add open parenthesis if open < n\n",
    "    # Only add a closing parenthesis if closed < open\n",
    "    # Valid if open == closed == n\n",
    "\n",
    "    res = []\n",
    "    stack = []\n",
    "\n",
    "    def backtrack(open_n, closed_n):\n",
    "        if open_n == closed_n == n:\n",
    "                res.append(\"\".join(stack))\n",
    "                return\n",
    "\n",
    "        if open_n < n:\n",
    "            stack.append(\"(\")\n",
    "            backtrack(open_n + 1, closed_n)\n",
    "            stack.pop()\n",
    "        \n",
    "        if closed_n < open_n:\n",
    "            stack.append(\")\")\n",
    "            backtrack(open_n, closed_n + 1)\n",
    "            stack.pop()\n",
    "\n",
    "    backtrack(0, 0)\n",
    "    \n",
    "    return res\n",
    "\n",
    "def generateParenthesis2(n):\n",
    "    \"\"\"Dynamic programming solution. TODO: Understand.\"\"\"\n",
    "    res = [[] for _ in range(n+1)]\n",
    "    res[0] = [\"\"]\n",
    "    \n",
    "    for k in range(n + 1):\n",
    "        for i in range(k):\n",
    "            for left in res[i]:\n",
    "                for right in res[k-i-1]:\n",
    "                    res[k].append(\"(\" + left + \")\" + right)\n",
    "    \n",
    "    return res[-1]\n"
   ]
  },
  {
   "cell_type": "code",
   "execution_count": 54,
   "metadata": {},
   "outputs": [
    {
     "data": {
      "text/plain": [
       "['((()))', '(()())', '(())()', '()(())', '()()()']"
      ]
     },
     "execution_count": 54,
     "metadata": {},
     "output_type": "execute_result"
    }
   ],
   "source": [
    "generateParenthesis(3)"
   ]
  },
  {
   "cell_type": "markdown",
   "metadata": {},
   "source": [
    "## Problem 5: Daily Temperatures\n",
    "\n",
    "https://leetcode.com/problems/daily-temperatures/\n",
    "\n",
    "You are given an array of integers temperatures where temperatures `[i]` represents the daily temperatures on the ith day.\n",
    "\n",
    "Return an array result where result `[i]` is the number of days after the ith day before a warmer temperature appears on a future day. If there is no day in the future where a warmer temperature will appear for the ith day, set result `[i]` to 0 instead.\n",
    "\n",
    "Example 1:\n",
    "\n",
    "```\n",
    "Input: temperatures = [30,38,30,36,35,40,28]\n",
    "\n",
    "Output: [1,4,1,2,1,0,0]\n",
    "```\n",
    "\n",
    "Example 2:\n",
    "\n",
    "```\n",
    "Input: temperatures = [22,21,20]\n",
    "\n",
    "Output: [0,0,0]\n",
    "```\n",
    "\n",
    "Constraints:\n",
    "\n",
    "```\n",
    "1 <= temperatures.length <= 1000.\n",
    "1 <= temperatures[i] <= 100\n",
    "```"
   ]
  },
  {
   "cell_type": "code",
   "execution_count": 64,
   "metadata": {},
   "outputs": [],
   "source": [
    "def dailyTemperatures(temperatures: List[int]) -> List[int]:\n",
    "    # # brute force: O(n^2), space: O(1)\n",
    "    # res = [0] * len(temperatures)\n",
    "    # for i, temp in enumerate(temperatures):\n",
    "    #     for j in range(i+1, len(temperatures)):\n",
    "    #         if temperatures[j] > temp:\n",
    "    #             res[i] = j - i\n",
    "    #             break\n",
    "    # return res\n",
    "\n",
    "    # stack: O(n), space: O(n)\n",
    "    res = [0] * len(temperatures)\n",
    "    stack = []\n",
    "    for i, temp in enumerate(temperatures):\n",
    "        while stack and temp > temperatures[stack[-1]]:\n",
    "            stack_index = stack.pop()\n",
    "            res[stack_index] = i - stack_index\n",
    "            \n",
    "        stack.append(i)\n",
    "\n",
    "    return res\n",
    "\n",
    "def dailyTemperatures_dp(temperatures: List[int]) -> List[int]:\n",
    "    \"\"\"Dynamic programming solution. O(n) time, O(1) space.\"\"\"\n",
    "    n = len(temperatures)\n",
    "    res = [0] * n\n",
    "\n",
    "    # We iterate from the second last day to the first day (n-2 to 0).\n",
    "    for i in range(n - 2, -1, -1):\n",
    "        # For i, j represents the next day.\n",
    "        j = i + 1\n",
    "        while j < n and temperatures[j] <= temperatures[i]:\n",
    "            # If res[j] is 0, it means there is no future day where the temperature is higher than temperatures[j].\n",
    "            if res[j] == 0:\n",
    "                # If there is no future day where the temperature is higher than temperatures[j],\n",
    "                j = n\n",
    "                break\n",
    "            # Otherwise, we move to the next day where the temperature is higher than temperatures[j].\n",
    "            j += res[j]\n",
    "        \n",
    "        # If j < n, it means we found a future day where the temperature is higher than temperatures[i]. So update the result for i.\n",
    "        if j < n:\n",
    "            res[i] = j - i\n",
    "    return res\n"
   ]
  },
  {
   "cell_type": "code",
   "execution_count": 63,
   "metadata": {},
   "outputs": [
    {
     "data": {
      "text/plain": [
       "True"
      ]
     },
     "execution_count": 63,
     "metadata": {},
     "output_type": "execute_result"
    }
   ],
   "source": [
    "temperatures = [30,38,30,36,35,40,28]\n",
    "dailyTemperatures(temperatures) == [1,4,1,2,1,0,0]\n",
    "\n",
    "temperatures = [30,60,90]\n",
    "dailyTemperatures(temperatures) == [1,1,0]\n",
    "\n",
    "temperatures = [73,74,75,71,69,72,76,73]\n",
    "dailyTemperatures(temperatures) == [1,1,4,2,1,1,0,0]"
   ]
  },
  {
   "cell_type": "code",
   "execution_count": 65,
   "metadata": {},
   "outputs": [
    {
     "data": {
      "text/plain": [
       "True"
      ]
     },
     "execution_count": 65,
     "metadata": {},
     "output_type": "execute_result"
    }
   ],
   "source": [
    "temperatures = [30,38,30,36,35,40,28]\n",
    "dailyTemperatures_dp(temperatures) == [1,4,1,2,1,0,0]\n",
    "\n",
    "temperatures = [30,60,90]\n",
    "dailyTemperatures_dp(temperatures) == [1,1,0]\n",
    "\n",
    "temperatures = [73,74,75,71,69,72,76,73]\n",
    "dailyTemperatures_dp(temperatures) == [1,1,4,2,1,1,0,0]"
   ]
  },
  {
   "cell_type": "markdown",
   "metadata": {},
   "source": [
    "## Problem 6: Car Fleet\n",
    "\n",
    "https://leetcode.com/problems/car-fleet/\n",
    "\n",
    "There are n cars traveling to the same destination on a one-lane highway.\n",
    "\n",
    "You are given two arrays of integers position and speed, both of length n.\n",
    "\n",
    "`position[i]` is the position of the ith car (in miles)\n",
    "`speed[i]` is the speed of the ith car (in miles per hour)\n",
    "The destination is at position `target` miles.\n",
    "\n",
    "A car can not pass another car ahead of it. It can only catch up to another car and then drive at the same speed as the car ahead of it.\n",
    "\n",
    "A car fleet is a non-empty set of cars driving at the same position and same speed. A single car is also considered a car fleet.\n",
    "\n",
    "If a car catches up to a car fleet the moment the fleet reaches the destination, then the car is considered to be part of the fleet.\n",
    "\n",
    "Return the number of different car fleets that will arrive at the destination.\n",
    "\n",
    "Example 1:\n",
    "\n",
    "```\n",
    "Input: target = 10, position = [1,4], speed = [3,2]\n",
    "Output: 1\n",
    "```\n",
    "\n",
    "Explanation: The cars starting at 1 (speed 3) and 4 (speed 2) become a fleet, meeting each other at 10, the destination.\n",
    "\n",
    "Example 2:\n",
    "\n",
    "```\n",
    "Input: target = 10, position = [4,1,0,7], speed = [2,2,1,1]\n",
    "Output: 3\n",
    "```\n",
    "\n",
    "Explanation: The cars starting at 4 and 7 become a fleet at position 10. The cars starting at 1 and 0 never catch up to the car ahead of them. Thus, there are 3 car fleets that will arrive at the destination.\n",
    "\n",
    "Constraints:\n",
    "\n",
    "```\n",
    "n == position.length == speed.length.\n",
    "1 <= n <= 1000\n",
    "0 < target <= 1000\n",
    "0 < speed[i] <= 100\n",
    "0 <= position[i] < target\n",
    "```\n",
    "All the values of position are unique.\n"
   ]
  },
  {
   "cell_type": "code",
   "execution_count": 125,
   "metadata": {},
   "outputs": [],
   "source": [
    "def carFleet(target: int, position: List[int], speed: List[int]) -> int:\n",
    "    \"\"\"O(n log n) time, O(n) space.\"\"\"\n",
    "    # Sort the cars by position, reverse order, O(log(n))\n",
    "    pair = [(p, s) for p, s in zip(position, speed)]\n",
    "    pair.sort(reverse=True)\n",
    "    \n",
    "    # Iterate through the cars, O(n)\n",
    "    stack = []\n",
    "    for p, s in pair:\n",
    "        \n",
    "        # Get the time taken to reach the target, add to stack\n",
    "        t = (target - p) / s\n",
    "        # We add and pop current element to ensure we keep the slower moving car on the stack\n",
    "        stack.append((target - p) / s)\n",
    "        \n",
    "        # If the time taken is less than the top\n",
    "        # Use if rather than while because we only need to compare to car ahead which is limiting factor for speed and has already been checked\n",
    "        if len(stack) >= 2 and stack[-1] <= stack[-2]:\n",
    "            stack.pop()\n",
    "\n",
    "    return len(stack)\n"
   ]
  },
  {
   "cell_type": "code",
   "execution_count": 120,
   "metadata": {},
   "outputs": [
    {
     "data": {
      "text/plain": [
       "1"
      ]
     },
     "execution_count": 120,
     "metadata": {},
     "output_type": "execute_result"
    }
   ],
   "source": [
    "target = 10\n",
    "position = [1,4]\n",
    "speed = [3,2]\n",
    "carFleet(target, position, speed)"
   ]
  },
  {
   "cell_type": "code",
   "execution_count": 121,
   "metadata": {},
   "outputs": [
    {
     "data": {
      "text/plain": [
       "3"
      ]
     },
     "execution_count": 121,
     "metadata": {},
     "output_type": "execute_result"
    }
   ],
   "source": [
    "target = 10\n",
    "position = [4,1,0,7]\n",
    "speed = [2,2,1,1]\n",
    "\n",
    "carFleet(target, position, speed)\n"
   ]
  },
  {
   "cell_type": "code",
   "execution_count": 122,
   "metadata": {},
   "outputs": [
    {
     "data": {
      "text/plain": [
       "3"
      ]
     },
     "execution_count": 122,
     "metadata": {},
     "output_type": "execute_result"
    }
   ],
   "source": [
    "target = 12\n",
    "position = [10,8,0,5,3, 3]\n",
    "speed = [2,4,1,1,3, 4]\n",
    "carFleet(target, position, speed)\n"
   ]
  },
  {
   "cell_type": "markdown",
   "metadata": {},
   "source": [
    "# Stack: Hard Problems"
   ]
  },
  {
   "cell_type": "markdown",
   "metadata": {},
   "source": [
    "## Problem 1: Largest Rectangle In Histogram\n",
    "\n",
    "\n",
    "https://leetcode.com/problems/largest-rectangle-in-histogram/\n",
    "\n",
    "You are given an array of integers heights where `heights[i]` represents the height of a bar. The width of each bar is 1.\n",
    "\n",
    "Return the area of the largest rectangle that can be formed among the bars.\n",
    "\n",
    "Note: This chart is known as a histogram.\n",
    "\n",
    "Example 1:\n",
    "\n",
    "```\n",
    "Input: heights = [7,1,7,2,2,4]\n",
    "Output: 8\n",
    "```\n",
    "\n",
    "Example 2:\n",
    "\n",
    "```\n",
    "Input: heights = [1,3,7]\n",
    "Output: 7\n",
    "```\n",
    "\n",
    "Constraints:\n",
    "\n",
    "```\n",
    "1 <= heights.length <= 1000.\n",
    "0 <= heights[i] <= 1000\n",
    "```\n"
   ]
  },
  {
   "cell_type": "code",
   "execution_count": 158,
   "metadata": {},
   "outputs": [],
   "source": [
    "def largestRectangleArea(heights: List[int]) -> int:\n",
    "    \"\"\"O(n) time, O(n) space.\"\"\"\n",
    "    max_area = 0\n",
    "    stack = []  # (index, height)\n",
    "\n",
    "    # Dummy height to ensure we calculate the area for bars left on stack at end.\n",
    "    heights = heights + [0]\n",
    "    \n",
    "    for i, h in enumerate(heights):\n",
    "        start = i\n",
    "        \n",
    "        # While the current height is less than the height at the top of the stack\n",
    "        while stack and h < stack[-1][1]:\n",
    "            # Get the index and height of the top of the stack\n",
    "            index, height = stack.pop()\n",
    "            # Calculate the area of the rectangle with the current top of the stack\n",
    "            max_area = max(max_area, height * (i - index))\n",
    "            # Update the start of the current rectangle to the index of the popped bar\n",
    "            start = index\n",
    "        # Add the current bar to the stack, and start is the index of the current bar or the index of the previous bar on stack\n",
    "        stack.append((start, h))\n",
    "\n",
    "    return max_area"
   ]
  },
  {
   "cell_type": "code",
   "execution_count": 159,
   "metadata": {},
   "outputs": [
    {
     "data": {
      "text/plain": [
       "True"
      ]
     },
     "execution_count": 159,
     "metadata": {},
     "output_type": "execute_result"
    }
   ],
   "source": [
    "heights = [7,1,7,2,2,4]\n",
    "largestRectangleArea(heights) == 8"
   ]
  },
  {
   "cell_type": "code",
   "execution_count": 160,
   "metadata": {},
   "outputs": [
    {
     "data": {
      "text/plain": [
       "True"
      ]
     },
     "execution_count": 160,
     "metadata": {},
     "output_type": "execute_result"
    }
   ],
   "source": [
    "heights = [1,3,7]\n",
    "largestRectangleArea(heights) == 7"
   ]
  }
 ],
 "metadata": {
  "kernelspec": {
   "display_name": ".venv",
   "language": "python",
   "name": "python3"
  },
  "language_info": {
   "codemirror_mode": {
    "name": "ipython",
    "version": 3
   },
   "file_extension": ".py",
   "mimetype": "text/x-python",
   "name": "python",
   "nbconvert_exporter": "python",
   "pygments_lexer": "ipython3",
   "version": "3.11.5"
  }
 },
 "nbformat": 4,
 "nbformat_minor": 2
}
